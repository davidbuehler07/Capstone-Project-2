{
 "cells": [
  {
   "cell_type": "code",
   "execution_count": 1,
   "metadata": {},
   "outputs": [
    {
     "name": "stderr",
     "output_type": "stream",
     "text": [
      "Using TensorFlow backend.\n"
     ]
    }
   ],
   "source": [
    "import pandas as pd\n",
    "%matplotlib inline\n",
    "\n",
    "from keras.models import Sequential\n",
    "from keras.layers import Dense\n",
    "from keras.utils import to_categorical\n",
    "\n",
    "import warnings\n",
    "warnings.filterwarnings('ignore')\n",
    "\n",
    "from extended_modeling_functions import *"
   ]
  },
  {
   "cell_type": "code",
   "execution_count": 2,
   "metadata": {},
   "outputs": [],
   "source": [
    "combined_df = pd.read_csv('../data/combined_df.csv', index_col=0)"
   ]
  },
  {
   "cell_type": "markdown",
   "metadata": {},
   "source": [
    "The goal for this notebook is gain some insight into our data set that the baseline models can't give us. We're going to do some digging with more advanced ensemble models, test out which is the best for modeling this data set, then go on a deep dive into that model to see what we can learn about the data set. Let's first set up some functions that will allow us to sample, split, and model the data to see which model best predicts our training set. We will be looking at Gradient Boosting, Random Forest, Ada Boosting and K-Neighbors models to compare between the four of those."
   ]
  },
  {
   "cell_type": "markdown",
   "metadata": {},
   "source": [
    "Like the previous notebooks, the functions used in this are defined in a seperate python file. Now that they're all put together, let's put them to use on a sample data set of 10,000, and 100,000 to see which model is the best performer."
   ]
  },
  {
   "cell_type": "code",
   "execution_count": 3,
   "metadata": {},
   "outputs": [
    {
     "name": "stdout",
     "output_type": "stream",
     "text": [
      "Random Forest Classification Report\n",
      "              precision    recall  f1-score   support\n",
      "\n",
      "          BB       0.39      0.29      0.33       792\n",
      "          FB       0.59      0.74      0.66      1402\n",
      "          OS       0.14      0.06      0.09       306\n",
      "\n",
      "    accuracy                           0.52      2500\n",
      "   macro avg       0.37      0.37      0.36      2500\n",
      "weighted avg       0.47      0.52      0.48      2500\n",
      "\n",
      "Gradient Boosting Classification Report\n",
      "              precision    recall  f1-score   support\n",
      "\n",
      "          BB       0.42      0.19      0.26       792\n",
      "          FB       0.58      0.87      0.69      1402\n",
      "          OS       0.27      0.01      0.02       306\n",
      "\n",
      "    accuracy                           0.55      2500\n",
      "   macro avg       0.42      0.36      0.32      2500\n",
      "weighted avg       0.49      0.55      0.47      2500\n",
      "\n",
      "Ada Boosting Classification Report\n",
      "              precision    recall  f1-score   support\n",
      "\n",
      "          BB       0.45      0.13      0.20       792\n",
      "          FB       0.57      0.93      0.71      1402\n",
      "          OS       0.00      0.00      0.00       306\n",
      "\n",
      "    accuracy                           0.56      2500\n",
      "   macro avg       0.34      0.35      0.30      2500\n",
      "weighted avg       0.46      0.56      0.46      2500\n",
      "\n",
      "K Neighbors Classification Report\n",
      "              precision    recall  f1-score   support\n",
      "\n",
      "          BB       0.37      0.25      0.30       792\n",
      "          FB       0.58      0.81      0.68      1402\n",
      "          OS       0.00      0.00      0.00       306\n",
      "\n",
      "    accuracy                           0.53      2500\n",
      "   macro avg       0.32      0.35      0.32      2500\n",
      "weighted avg       0.44      0.53      0.47      2500\n",
      "\n"
     ]
    }
   ],
   "source": [
    "get_classification_report(combined_df, 'pitch_type', sample_df=True, sample_size=10000)"
   ]
  },
  {
   "cell_type": "markdown",
   "metadata": {},
   "source": [
    "It looks like Ada boosting is the best performer for the smaller data set, let's take a look at a 100,000 sample and again see which model is the best."
   ]
  },
  {
   "cell_type": "code",
   "execution_count": 4,
   "metadata": {},
   "outputs": [
    {
     "name": "stdout",
     "output_type": "stream",
     "text": [
      "Random Forest Classification Report\n",
      "              precision    recall  f1-score   support\n",
      "\n",
      "          BB       0.37      0.30      0.33      7920\n",
      "          FB       0.58      0.71      0.64     14018\n",
      "          OS       0.19      0.09      0.12      3062\n",
      "\n",
      "    accuracy                           0.50     25000\n",
      "   macro avg       0.38      0.37      0.36     25000\n",
      "weighted avg       0.47      0.50      0.48     25000\n",
      "\n",
      "Gradient Boosting Classification Report\n",
      "              precision    recall  f1-score   support\n",
      "\n",
      "          BB       0.44      0.10      0.16      7920\n",
      "          FB       0.57      0.94      0.71     14018\n",
      "          OS       0.26      0.00      0.00      3062\n",
      "\n",
      "    accuracy                           0.56     25000\n",
      "   macro avg       0.42      0.35      0.29     25000\n",
      "weighted avg       0.49      0.56      0.45     25000\n",
      "\n",
      "Ada Boosting Classification Report\n",
      "              precision    recall  f1-score   support\n",
      "\n",
      "          BB       0.41      0.07      0.12      7920\n",
      "          FB       0.57      0.95      0.71     14018\n",
      "          OS       0.00      0.00      0.00      3062\n",
      "\n",
      "    accuracy                           0.56     25000\n",
      "   macro avg       0.32      0.34      0.28     25000\n",
      "weighted avg       0.45      0.56      0.44     25000\n",
      "\n",
      "K Neighbors Classification Report\n",
      "              precision    recall  f1-score   support\n",
      "\n",
      "          BB       0.37      0.25      0.30      7920\n",
      "          FB       0.58      0.81      0.67     14018\n",
      "          OS       0.25      0.01      0.02      3062\n",
      "\n",
      "    accuracy                           0.53     25000\n",
      "   macro avg       0.40      0.36      0.33     25000\n",
      "weighted avg       0.47      0.53      0.47     25000\n",
      "\n"
     ]
    }
   ],
   "source": [
    "get_classification_report(combined_df, 'pitch_type', sample_df=True, sample_size=100000)"
   ]
  },
  {
   "cell_type": "markdown",
   "metadata": {},
   "source": [
    "Gradient boosting has begun to pull ahead of Ada boosting by the slimmest of margins. Neither model was able to predict the offspeed class, but gradient boosting had a better f1-score on the breaking ball class. We'll choose gradient boosting as our best model and go forward with that. We'll take a look at the feature importances for the gradient boosting model, as well as get into some resampling methods using SMOTE to hopefully train a more accurate model."
   ]
  },
  {
   "cell_type": "code",
   "execution_count": 5,
   "metadata": {},
   "outputs": [
    {
     "data": {
      "image/png": "[encoded data removed]",
      "text/plain": [
       "<Figure size 1296x720 with 1 Axes>"
      ]
     },
     "metadata": {
      "needs_background": "light"
     },
     "output_type": "display_data"
    },
    {
     "name": "stdout",
     "output_type": "stream",
     "text": [
      "Gradient boost train accuracy:  56.3%\n",
      "Gradient boost test accuracy:   56.26%\n",
      "\n",
      "\n",
      "Gradient Boosting Classification Report\n",
      "              precision    recall  f1-score   support\n",
      "\n",
      "          BB       0.47      0.09      0.15    225509\n",
      "          FB       0.57      0.95      0.71    399170\n",
      "          OS       0.63      0.00      0.00     87199\n",
      "\n",
      "    accuracy                           0.56    711878\n",
      "   macro avg       0.56      0.35      0.29    711878\n",
      "weighted avg       0.54      0.56      0.45    711878\n",
      "\n"
     ]
    }
   ],
   "source": [
    "gradient_boost(combined_df, 'pitch_type')"
   ]
  },
  {
   "cell_type": "markdown",
   "metadata": {},
   "source": [
    "Taking a look at the gradient boosting model on the entire data set, it seems to have performed about as well as it did on the 100,000 data set. It did a good job of predicting the majority class, but not as well of a job predicting the two minority classes. Also to note are the feature importances. Pitcher side came out on top as the most important feature, which makes sense, right handed pitchers and left handed pitchers throw differently enough from one another that it certainly affects their pitch selection. Strike count and ball count being right behind pitcher side also makes sense, as pitchers will throw different pitches based on the count of the pitch."
   ]
  },
  {
   "cell_type": "markdown",
   "metadata": {},
   "source": [
    "Let's take a look into some resampling. We're going to oversample the minority classes (breaking balls and off-speed pitches) using the SMOTE function. We'll be looking into how feature importances, accuracies, and precisions/recalls change with a decreasing gap in class representation. First we'll take a look at 50% off-speed pitches and 75% breaking balls (percentages based off the majority class, fastballs)."
   ]
  },
  {
   "cell_type": "code",
   "execution_count": 6,
   "metadata": {},
   "outputs": [
    {
     "data": {
      "image/png": "[encoded data removed]",
      "text/plain": [
       "<Figure size 1296x720 with 1 Axes>"
      ]
     },
     "metadata": {
      "needs_background": "light"
     },
     "output_type": "display_data"
    },
    {
     "name": "stdout",
     "output_type": "stream",
     "text": [
      "Gradient boost train accuracy:  54.9%\n",
      "Gradient boost test accuracy:   54.51%\n",
      "\n",
      "\n",
      "Gradient Boosting Classification Report\n",
      "              precision    recall  f1-score   support\n",
      "\n",
      "          BB       0.42      0.25      0.31      7920\n",
      "          FB       0.59      0.82      0.68     14018\n",
      "          OS       0.25      0.06      0.10      3062\n",
      "\n",
      "    accuracy                           0.55     25000\n",
      "   macro avg       0.42      0.38      0.36     25000\n",
      "weighted avg       0.49      0.55      0.49     25000\n",
      "\n"
     ]
    }
   ],
   "source": [
    "gradient_boost(combined_df, 'pitch_type', resample=True, bb_mult=.75, os_mult=.5, sample_df=True, sample_size=100000)"
   ]
  },
  {
   "cell_type": "markdown",
   "metadata": {},
   "source": [
    "Good thing to see to start out, it's able to predict some of the off-speed pitches. Also breaking ball scores have seemed to increase as well. That's a good sign for our resampling technique. Though it seems that fastball recall, as well as overall model accuracy has fallen off a bit. Let's try our next resampling technique and see if this trend continues."
   ]
  },
  {
   "cell_type": "markdown",
   "metadata": {},
   "source": [
    "For this test we'll have 87.5% breaking balls and 75% off-speed pitches compared to the majority class."
   ]
  },
  {
   "cell_type": "code",
   "execution_count": 7,
   "metadata": {},
   "outputs": [
    {
     "data": {
      "image/png": "[encoded data removed]",
      "text/plain": [
       "<Figure size 1296x720 with 1 Axes>"
      ]
     },
     "metadata": {
      "needs_background": "light"
     },
     "output_type": "display_data"
    },
    {
     "name": "stdout",
     "output_type": "stream",
     "text": [
      "Gradient boost train accuracy:  55.69%\n",
      "Gradient boost test accuracy:   51.73%\n",
      "\n",
      "\n",
      "Gradient Boosting Classification Report\n",
      "              precision    recall  f1-score   support\n",
      "\n",
      "          BB       0.42      0.34      0.37      7920\n",
      "          FB       0.61      0.68      0.64     14018\n",
      "          OS       0.24      0.22      0.23      3062\n",
      "\n",
      "    accuracy                           0.52     25000\n",
      "   macro avg       0.42      0.41      0.42     25000\n",
      "weighted avg       0.50      0.52      0.51     25000\n",
      "\n"
     ]
    }
   ],
   "source": [
    "gradient_boost(combined_df, 'pitch_type', resample=True, bb_mult=.875, os_mult=.75, sample_df=True, sample_size=100000)"
   ]
  },
  {
   "cell_type": "markdown",
   "metadata": {},
   "source": [
    "Trend seems to continue. Fastball recall and f1-score dropped from 0.82/0.68 to 0.68/0.64. Overall model accuracy on the testing set has come down as well. However the model seems to be getting better at predicting the other classes. Scores for breaking balls and off-speed pitches have once again climbed. Let's try an even split of the three classes and see how our model performs."
   ]
  },
  {
   "cell_type": "code",
   "execution_count": 8,
   "metadata": {},
   "outputs": [
    {
     "data": {
      "image/png": "[encoded data removed]",
      "text/plain": [
       "<Figure size 1296x720 with 1 Axes>"
      ]
     },
     "metadata": {
      "needs_background": "light"
     },
     "output_type": "display_data"
    },
    {
     "name": "stdout",
     "output_type": "stream",
     "text": [
      "Gradient boost train accuracy:  57.12%\n",
      "Gradient boost test accuracy:   48.69%\n",
      "\n",
      "\n",
      "Gradient Boosting Classification Report\n",
      "              precision    recall  f1-score   support\n",
      "\n",
      "          BB       0.41      0.38      0.40      7920\n",
      "          FB       0.62      0.58      0.60     14018\n",
      "          OS       0.22      0.31      0.26      3062\n",
      "\n",
      "    accuracy                           0.49     25000\n",
      "   macro avg       0.42      0.43      0.42     25000\n",
      "weighted avg       0.50      0.49      0.49     25000\n",
      "\n"
     ]
    }
   ],
   "source": [
    "gradient_boost(combined_df, 'pitch_type', resample=True, bb_mult=1, os_mult=1, sample_df=True, sample_size=100000)"
   ]
  },
  {
   "cell_type": "markdown",
   "metadata": {},
   "source": [
    "The trend continues. This pattern of the model doing better on minority classes, but getting worse for the majority class has continued throughout our sampling tests. Also it seems our feature importances have changed as well. Pitcher side is still the top class, but ball count and strike count have dropped off to the middle of the pack and batter side has risen to the second most important feature.\n",
    "\n",
    "In the context of a game this all makes sense. Pitchers have different strategies based on the handedness of the hitter, and this extends to different handed pitchers have different strategies to hitters. A right handed pitcher vs. a right handed batter will look much different than a right handed pitcher vs. a left handed batter. Same with lefty pitchers. "
   ]
  },
  {
   "cell_type": "markdown",
   "metadata": {},
   "source": [
    "So the gradient boosting model didn't predict pitches well at all, never rising above 56%. Let's take a look at some basic neural networks to see if they do any better."
   ]
  },
  {
   "cell_type": "markdown",
   "metadata": {},
   "source": [
    "## Simple Neural Network"
   ]
  },
  {
   "cell_type": "markdown",
   "metadata": {},
   "source": [
    "Now that we have a good understanding of our data set from our gradient boosting model, we'll get some practice with Neural Networks in using two different neural networks. One from Scikit-Learn, and the other using Keras and Tensorflow."
   ]
  },
  {
   "cell_type": "markdown",
   "metadata": {},
   "source": [
    "Let's first take a look at the Scikit-Learn MLPClassifier on a 1,000,000 sample data set. This will allow for good model accuracy in much less time than modeling the whole data set. "
   ]
  },
  {
   "cell_type": "code",
   "execution_count": 9,
   "metadata": {},
   "outputs": [],
   "source": [
    "X_train, X_test, y_train, y_test = split_data(combined_df, 'pitch_type', sample_df=True, sample_size=1000000)"
   ]
  },
  {
   "cell_type": "markdown",
   "metadata": {},
   "source": [
    "### Without resampling"
   ]
  },
  {
   "cell_type": "markdown",
   "metadata": {},
   "source": [
    "First we'll take a look at how this model performs on the sampled data set without any resampling."
   ]
  },
  {
   "cell_type": "code",
   "execution_count": 10,
   "metadata": {},
   "outputs": [],
   "source": [
    "mlp = MLPClassifier(hidden_layer_sizes=(15,15,15,15,15,15,15,15), max_iter=10000, random_state=11)"
   ]
  },
  {
   "cell_type": "code",
   "execution_count": 11,
   "metadata": {},
   "outputs": [
    {
     "name": "stdout",
     "output_type": "stream",
     "text": [
      "Test set accuracy: 56.2%\n",
      "\n",
      "\n",
      "MLP Classifier Classification report\n",
      "              precision    recall  f1-score   support\n",
      "\n",
      "          BB       0.47      0.10      0.16     79195\n",
      "          FB       0.57      0.95      0.71    140182\n",
      "          OS       0.00      0.00      0.00     30623\n",
      "\n",
      "    accuracy                           0.56    250000\n",
      "   macro avg       0.35      0.35      0.29    250000\n",
      "weighted avg       0.47      0.56      0.45    250000\n",
      "\n"
     ]
    }
   ],
   "source": [
    "mlp.fit(X_train, y_train)\n",
    "y_pred = mlp.predict(X_test)\n",
    "print(f'Test set accuracy: {round(mlp.score(X_test, y_test) * 100, 2)}%')\n",
    "print('\\n')\n",
    "print('MLP Classifier Classification report')\n",
    "print(classification_report(y_test, y_pred))"
   ]
  },
  {
   "cell_type": "markdown",
   "metadata": {},
   "source": [
    "Essentially the same as our gradient boosting model. Good recall on the majority class, but struggling to predict the minority classes, and unable at all to predict our smallest class. Let's do some resampling again to see how that effects this neural network."
   ]
  },
  {
   "cell_type": "markdown",
   "metadata": {},
   "source": [
    "### With resampling"
   ]
  },
  {
   "cell_type": "code",
   "execution_count": 12,
   "metadata": {},
   "outputs": [
    {
     "data": {
      "text/plain": [
       "FB    420546\n",
       "BB    237585\n",
       "OS     91869\n",
       "Name: pitch_type, dtype: int64"
      ]
     },
     "execution_count": 12,
     "metadata": {},
     "output_type": "execute_result"
    }
   ],
   "source": [
    "y_train.value_counts()"
   ]
  },
  {
   "cell_type": "code",
   "execution_count": 13,
   "metadata": {},
   "outputs": [
    {
     "data": {
      "text/plain": [
       "FB    420546\n",
       "BB    280364\n",
       "OS    210273\n",
       "Name: pitch_type, dtype: int64"
      ]
     },
     "execution_count": 13,
     "metadata": {},
     "output_type": "execute_result"
    }
   ],
   "source": [
    "sm = SMOTE(sampling_strategy={'FB':     y_train.value_counts().values[0], \n",
    "                              'BB': int(y_train.value_counts().values[0] / 1.5), \n",
    "                              'OS': int(y_train.value_counts().values[0] / 2)}, random_state=42)\n",
    "X_tr_res, y_tr_res = sm.fit_resample(X_train, y_train)\n",
    "\n",
    "y_tr_res.value_counts()"
   ]
  },
  {
   "cell_type": "markdown",
   "metadata": {},
   "source": [
    "First we'll take a look at 2/3 breaking balls and half off-speed pitches."
   ]
  },
  {
   "cell_type": "code",
   "execution_count": 14,
   "metadata": {},
   "outputs": [
    {
     "name": "stdout",
     "output_type": "stream",
     "text": [
      "Test set accuracy: 53.28%\n",
      "\n",
      "\n",
      "MLP Classifier Classification report\n",
      "              precision    recall  f1-score   support\n",
      "\n",
      "          BB       0.44      0.23      0.31     79195\n",
      "          FB       0.59      0.78      0.67    140182\n",
      "          OS       0.24      0.19      0.21     30623\n",
      "\n",
      "    accuracy                           0.53    250000\n",
      "   macro avg       0.42      0.40      0.40    250000\n",
      "weighted avg       0.50      0.53      0.50    250000\n",
      "\n"
     ]
    }
   ],
   "source": [
    "mlp.fit(X_tr_res, y_tr_res)\n",
    "res_pred = mlp.predict(X_test)\n",
    "print(f'Test set accuracy: {round(mlp.score(X_test, y_test) * 100, 2)}%')\n",
    "print('\\n')\n",
    "print('MLP Classifier Classification report')\n",
    "print(classification_report(y_test, res_pred))"
   ]
  },
  {
   "cell_type": "markdown",
   "metadata": {},
   "source": [
    "Overall model accuracy went down, but the model was better able to pick out the minority classes, and was able to correctly predict some of the offspeed pitches. Let's decrease the gap in class representation, train again and see how it does."
   ]
  },
  {
   "cell_type": "code",
   "execution_count": 15,
   "metadata": {},
   "outputs": [
    {
     "name": "stdout",
     "output_type": "stream",
     "text": [
      "FB    420546\n",
      "BB    336436\n",
      "OS    280364\n",
      "Name: pitch_type, dtype: int64\n"
     ]
    }
   ],
   "source": [
    "sm = SMOTE(sampling_strategy={'FB':     y_train.value_counts().values[0], \n",
    "                              'BB': int(y_train.value_counts().values[0] / 1.25), \n",
    "                              'OS': int(y_train.value_counts().values[0] / 1.5)}, random_state=42)\n",
    "X_tr_res, y_tr_res = sm.fit_resample(X_train, y_train)\n",
    "\n",
    "print(y_tr_res.value_counts())"
   ]
  },
  {
   "cell_type": "code",
   "execution_count": 16,
   "metadata": {},
   "outputs": [
    {
     "name": "stdout",
     "output_type": "stream",
     "text": [
      "Test set accuracy: 48.19%\n",
      "\n",
      "\n",
      "MLP Classifier Classification report\n",
      "              precision    recall  f1-score   support\n",
      "\n",
      "          BB       0.42      0.39      0.40     79195\n",
      "          FB       0.63      0.56      0.59    140182\n",
      "          OS       0.21      0.36      0.27     30623\n",
      "\n",
      "    accuracy                           0.48    250000\n",
      "   macro avg       0.42      0.44      0.42    250000\n",
      "weighted avg       0.51      0.48      0.49    250000\n",
      "\n"
     ]
    }
   ],
   "source": [
    "mlp.fit(X_tr_res, y_tr_res)\n",
    "res_pred = mlp.predict(X_test)\n",
    "print(f'Test set accuracy: {round(mlp.score(X_test, y_test) * 100, 2)}%')\n",
    "print('\\n')\n",
    "print('MLP Classifier Classification report')\n",
    "print(classification_report(y_test, res_pred))"
   ]
  },
  {
   "cell_type": "markdown",
   "metadata": {},
   "source": [
    "It seems like the same pattern is developing here like it did with the gradient boosting model. fastball recall/f1-score and model accuracy are decreasing, but everything else is increasing. Seems like this model is getting worse at predicting fastballs reliably, but better at predicting the minority classes. Let's do an even split on the class representation and take a look one more time. "
   ]
  },
  {
   "cell_type": "code",
   "execution_count": 17,
   "metadata": {},
   "outputs": [
    {
     "name": "stdout",
     "output_type": "stream",
     "text": [
      "BB    420546\n",
      "OS    420546\n",
      "FB    420546\n",
      "Name: pitch_type, dtype: int64\n"
     ]
    }
   ],
   "source": [
    "sm = SMOTE(sampling_strategy={'FB':     y_train.value_counts().values[0], \n",
    "                              'BB': int(y_train.value_counts().values[0]), \n",
    "                              'OS': int(y_train.value_counts().values[0])}, random_state=42)\n",
    "X_tr_res, y_tr_res = sm.fit_resample(X_train, y_train)\n",
    "\n",
    "print(y_tr_res.value_counts())"
   ]
  },
  {
   "cell_type": "code",
   "execution_count": 18,
   "metadata": {},
   "outputs": [
    {
     "name": "stdout",
     "output_type": "stream",
     "text": [
      "Test set accuracy: 43.55%\n",
      "\n",
      "\n",
      "MLP Classifier Classification report\n",
      "              precision    recall  f1-score   support\n",
      "\n",
      "          BB       0.41      0.46      0.43     79195\n",
      "          FB       0.67      0.41      0.51    140182\n",
      "          OS       0.20      0.48      0.28     30623\n",
      "\n",
      "    accuracy                           0.44    250000\n",
      "   macro avg       0.42      0.45      0.41    250000\n",
      "weighted avg       0.53      0.44      0.46    250000\n",
      "\n"
     ]
    }
   ],
   "source": [
    "mlp.fit(X_tr_res, y_tr_res)\n",
    "res_pred = mlp.predict(X_test)\n",
    "print(f'Test set accuracy: {round(mlp.score(X_test, y_test) * 100, 2)}%')\n",
    "print('\\n')\n",
    "print('MLP Classifier Classification report')\n",
    "print(classification_report(y_test, res_pred))"
   ]
  },
  {
   "cell_type": "markdown",
   "metadata": {},
   "source": [
    "For an even split of class representation, it seems to have settled on similar numbers that the gradient boosting model did. We also observed the same overall pattern with resampling that the gradient boosting model did. Let's take a look into a Keras and TensorFlow neural network and see if we observe the same thing."
   ]
  },
  {
   "cell_type": "markdown",
   "metadata": {},
   "source": [
    "# Keras and TensorFlow"
   ]
  },
  {
   "cell_type": "markdown",
   "metadata": {},
   "source": [
    "## Without resampling"
   ]
  },
  {
   "cell_type": "markdown",
   "metadata": {},
   "source": [
    "Unfortunately for this model we won't be able to use our split_data function here since that won't be able to turn our target variable into a categorical variable that this model requires. So we'll use the sample function to get a 1,000,000 sample of our data set, then map our target variable into integers, do our train_test_split, then turn our training set into categorical variables that the model will accept."
   ]
  },
  {
   "cell_type": "code",
   "execution_count": 19,
   "metadata": {},
   "outputs": [],
   "source": [
    "sample_df = sample(combined_df, 'pitch_type', sample_df=True, sample_size=1000000)\n",
    "sample_df['pitch_type'] = sample_df['pitch_type'].map({'FB': 0, 'BB': 1, 'OS': 2})\n",
    "\n",
    "X = sample_df.drop(['pitch_type', 'ab_id', 'batter_id', 'g_id', 'pitcher_id', 'px', 'pz',\n",
    "                    'CH', 'CU', 'EP', 'FA', 'FC', 'FF', 'FO', 'FS', 'FT', 'IN',\n",
    "                    'KC', 'KN', 'PO', 'SC', 'SI', 'SL', 'UN', 'id', 'year', 'target'], axis=1).select_dtypes(exclude='object')\n",
    "y = sample_df['pitch_type']\n",
    "\n",
    "X_train, X_test, y_train, y_test = train_test_split(X, y, random_state=47, stratify=y)\n",
    "\n",
    "y_train = to_categorical(y_train)"
   ]
  },
  {
   "cell_type": "markdown",
   "metadata": {},
   "source": [
    "So to build our model, we'll add an input column with a rectifier activation function, have that feed into the 15 hidden layers, then have our output layer have 3 nodes, one for each class, with a softmax activation functions to predict the probability of each class. We'll use 50 epochs to get an adequate amount of training for each fit call, then take a look at the results in terms of loss, accuracy, and each prediction's classification report."
   ]
  },
  {
   "cell_type": "code",
   "execution_count": 20,
   "metadata": {},
   "outputs": [],
   "source": [
    "model = Sequential()\n",
    "model.add(Dense(12, input_dim=15, activation='relu'))\n",
    "model.add(Dense(15, activation='relu'))\n",
    "model.add(Dense(3, activation='softmax'))\n",
    "model.compile(loss='categorical_crossentropy', optimizer='adam', metrics=['accuracy'])"
   ]
  },
  {
   "cell_type": "code",
   "execution_count": 21,
   "metadata": {},
   "outputs": [
    {
     "data": {
      "text/plain": [
       "<keras.callbacks.callbacks.History at 0x255c9f22bc8>"
      ]
     },
     "execution_count": 21,
     "metadata": {},
     "output_type": "execute_result"
    }
   ],
   "source": [
    "model.fit(X_train, y_train, epochs=50, batch_size=5, verbose=0)"
   ]
  },
  {
   "cell_type": "code",
   "execution_count": 22,
   "metadata": {},
   "outputs": [
    {
     "name": "stdout",
     "output_type": "stream",
     "text": [
      "Keras training model loss: 90.94\n",
      "Keras training model accuracy: 56.12%\n",
      "\n",
      "\n",
      "Keras Model Classification Report\n",
      "              precision    recall  f1-score   support\n",
      "\n",
      "           0       0.56      0.99      0.72    140182\n",
      "           1       0.49      0.03      0.05     79195\n",
      "           2       0.00      0.00      0.00     30623\n",
      "\n",
      "    accuracy                           0.56    250000\n",
      "   macro avg       0.35      0.34      0.26    250000\n",
      "weighted avg       0.47      0.56      0.42    250000\n",
      "\n"
     ]
    }
   ],
   "source": [
    "accuracy = model.evaluate(X_train, y_train, verbose=0)\n",
    "print(f'Keras training model loss: {round(accuracy[0] * 100, 2)}')\n",
    "print(f'Keras training model accuracy: {round(accuracy[1] * 100, 2)}%')\n",
    "print('\\n')\n",
    "print('Keras Model Classification Report')\n",
    "keras_classes = model.predict_classes(X_test)\n",
    "print(classification_report(y_test, keras_classes))"
   ]
  },
  {
   "cell_type": "markdown",
   "metadata": {},
   "source": [
    "The first model we used on the sampled data set with no resampling. Seems to have turned out similarly to our previous models, doing really well on the majority classes (actually better on this model), and not as well on the minority classes. Let's get into some resampling and see if the same pattern as the other two models happens again."
   ]
  },
  {
   "cell_type": "markdown",
   "metadata": {},
   "source": [
    "### With Resampling"
   ]
  },
  {
   "cell_type": "code",
   "execution_count": 23,
   "metadata": {},
   "outputs": [],
   "source": [
    "sample_df = sample(combined_df, 'pitch_type', sample_df=True, sample_size=1000000)\n",
    "sample_df['pitch_type'] = sample_df['pitch_type'].map({'FB': 0, 'BB': 1, 'OS': 2})\n",
    "\n",
    "X = sample_df.drop(['pitch_type', 'ab_id', 'batter_id', 'g_id', 'pitcher_id', 'px', 'pz',\n",
    "                    'CH', 'CU', 'EP', 'FA', 'FC', 'FF', 'FO', 'FS', 'FT', 'IN',\n",
    "                    'KC', 'KN', 'PO', 'SC', 'SI', 'SL', 'UN', 'id', 'year', 'target'], axis=1).select_dtypes(exclude='object')\n",
    "y = sample_df['pitch_type']\n",
    "\n",
    "X_train, X_test, y_train, y_test = train_test_split(X, y, random_state=47, stratify=y)"
   ]
  },
  {
   "cell_type": "code",
   "execution_count": 24,
   "metadata": {},
   "outputs": [
    {
     "name": "stdout",
     "output_type": "stream",
     "text": [
      "0    420546\n",
      "1    315409\n",
      "2    210273\n",
      "Name: pitch_type, dtype: int64\n"
     ]
    }
   ],
   "source": [
    "sm = SMOTE(sampling_strategy={0:     y_train.value_counts().values[0], \n",
    "                              1: int(y_train.value_counts().values[0] * .75), \n",
    "                              2: int(y_train.value_counts().values[0] * .5)}, random_state=42)\n",
    "X_tr_res, y_tr_res = sm.fit_resample(X_train, y_train)\n",
    "\n",
    "print(y_tr_res.value_counts())"
   ]
  },
  {
   "cell_type": "code",
   "execution_count": 25,
   "metadata": {},
   "outputs": [],
   "source": [
    "y_tr_res = to_categorical(y_tr_res)"
   ]
  },
  {
   "cell_type": "code",
   "execution_count": 26,
   "metadata": {},
   "outputs": [
    {
     "data": {
      "text/plain": [
       "<keras.callbacks.callbacks.History at 0x255c9f28d08>"
      ]
     },
     "execution_count": 26,
     "metadata": {},
     "output_type": "execute_result"
    }
   ],
   "source": [
    "model.fit(X_tr_res, y_tr_res, epochs=50, batch_size=5, verbose=0)"
   ]
  },
  {
   "cell_type": "code",
   "execution_count": 27,
   "metadata": {},
   "outputs": [
    {
     "name": "stdout",
     "output_type": "stream",
     "text": [
      "Keras training model loss: 100.31\n",
      "Keras training model accuracy: 46.46%\n",
      "\n",
      "\n",
      "Keras Model Classification Report\n",
      "              precision    recall  f1-score   support\n",
      "\n",
      "           0       0.60      0.74      0.66    140182\n",
      "           1       0.41      0.34      0.37     79195\n",
      "           2       0.23      0.08      0.12     30623\n",
      "\n",
      "    accuracy                           0.53    250000\n",
      "   macro avg       0.41      0.39      0.38    250000\n",
      "weighted avg       0.49      0.53      0.50    250000\n",
      "\n"
     ]
    }
   ],
   "source": [
    "accuracy = model.evaluate(X_tr_res, y_tr_res, verbose=0)\n",
    "print(f'Keras training model loss: {round(accuracy[0] * 100, 2)}')\n",
    "print(f'Keras training model accuracy: {round(accuracy[1] * 100, 2)}%')\n",
    "print('\\n')\n",
    "print('Keras Model Classification Report')\n",
    "keras_classes = model.predict_classes(X_test)\n",
    "print(classification_report(y_test, keras_classes))"
   ]
  },
  {
   "cell_type": "markdown",
   "metadata": {},
   "source": [
    "For this model it seems like the same pattern as before is happening again. Worse on model accuracy, majority class precision/f1-score, better on everything else. The numbers are a bit different, this neural network is the best at predicting the majority class, and not performing as well as our other models on the minority classes. Let's do another resample and see how the model does."
   ]
  },
  {
   "cell_type": "code",
   "execution_count": 28,
   "metadata": {},
   "outputs": [
    {
     "name": "stdout",
     "output_type": "stream",
     "text": [
      "0    420546\n",
      "1    367977\n",
      "2    315409\n",
      "Name: pitch_type, dtype: int64\n"
     ]
    }
   ],
   "source": [
    "sm = SMOTE(sampling_strategy={0:     y_train.value_counts().values[0], \n",
    "                              1: int(y_train.value_counts().values[0] * .875), \n",
    "                              2: int(y_train.value_counts().values[0] * .75)}, random_state=42)\n",
    "X_tr_res, y_tr_res = sm.fit_resample(X_train, y_train)\n",
    "\n",
    "print(y_tr_res.value_counts())"
   ]
  },
  {
   "cell_type": "code",
   "execution_count": 29,
   "metadata": {},
   "outputs": [],
   "source": [
    "y_tr_res = to_categorical(y_tr_res)"
   ]
  },
  {
   "cell_type": "code",
   "execution_count": 30,
   "metadata": {},
   "outputs": [
    {
     "data": {
      "text/plain": [
       "<keras.callbacks.callbacks.History at 0x255b562c588>"
      ]
     },
     "execution_count": 30,
     "metadata": {},
     "output_type": "execute_result"
    }
   ],
   "source": [
    "model.fit(X_tr_res, y_tr_res, epochs=50, batch_size=5, verbose=0)"
   ]
  },
  {
   "cell_type": "code",
   "execution_count": 31,
   "metadata": {},
   "outputs": [
    {
     "name": "stdout",
     "output_type": "stream",
     "text": [
      "Keras training model loss: 102.16\n",
      "Keras training model accuracy: 45.54%\n",
      "\n",
      "\n",
      "Keras Model Classification Report\n",
      "              precision    recall  f1-score   support\n",
      "\n",
      "           0       0.65      0.48      0.55    140182\n",
      "           1       0.40      0.48      0.44     79195\n",
      "           2       0.21      0.36      0.27     30623\n",
      "\n",
      "    accuracy                           0.47    250000\n",
      "   macro avg       0.42      0.44      0.42    250000\n",
      "weighted avg       0.52      0.47      0.48    250000\n",
      "\n"
     ]
    }
   ],
   "source": [
    "accuracy = model.evaluate(X_tr_res, y_tr_res, verbose=0)\n",
    "print(f'Keras training model loss: {round(accuracy[0] * 100, 2)}')\n",
    "print(f'Keras training model accuracy: {round(accuracy[1] * 100, 2)}%')\n",
    "print('\\n')\n",
    "print('Keras Model Classification Report')\n",
    "keras_classes = model.predict_classes(X_test)\n",
    "print(classification_report(y_test, keras_classes))"
   ]
  },
  {
   "cell_type": "markdown",
   "metadata": {},
   "source": [
    "The recall on the majority class really fell off here, and minority classes jumped up a lot. Interesting how this model is performing much differently than the ones before. The same overall pattern is happening as our gradient boosting and MLP Classifier models as before, but this model seems to be taking it to another level. "
   ]
  },
  {
   "cell_type": "code",
   "execution_count": 32,
   "metadata": {},
   "outputs": [
    {
     "name": "stdout",
     "output_type": "stream",
     "text": [
      "2    420546\n",
      "1    420546\n",
      "0    420546\n",
      "Name: pitch_type, dtype: int64\n"
     ]
    }
   ],
   "source": [
    "sm = SMOTE(sampling_strategy={0:     y_train.value_counts().values[0], \n",
    "                              1: int(y_train.value_counts().values[0]), \n",
    "                              2: int(y_train.value_counts().values[0])}, random_state=42)\n",
    "X_tr_res, y_tr_res = sm.fit_resample(X_train, y_train)\n",
    "\n",
    "print(y_tr_res.value_counts())"
   ]
  },
  {
   "cell_type": "code",
   "execution_count": 33,
   "metadata": {},
   "outputs": [],
   "source": [
    "y_tr_res = to_categorical(y_tr_res)"
   ]
  },
  {
   "cell_type": "code",
   "execution_count": 34,
   "metadata": {},
   "outputs": [
    {
     "data": {
      "text/plain": [
       "<keras.callbacks.callbacks.History at 0x255b5de6cc8>"
      ]
     },
     "execution_count": 34,
     "metadata": {},
     "output_type": "execute_result"
    }
   ],
   "source": [
    "model.fit(X_tr_res, y_tr_res, epochs=50, batch_size=5, verbose=0)"
   ]
  },
  {
   "cell_type": "code",
   "execution_count": 35,
   "metadata": {},
   "outputs": [
    {
     "name": "stdout",
     "output_type": "stream",
     "text": [
      "Keras training model loss: 102.22\n",
      "Keras training model accuracy: 47.26%\n",
      "\n",
      "\n",
      "Keras Model Classification Report\n",
      "              precision    recall  f1-score   support\n",
      "\n",
      "           0       0.71      0.28      0.41    140182\n",
      "           1       0.40      0.51      0.45     79195\n",
      "           2       0.19      0.59      0.29     30623\n",
      "\n",
      "    accuracy                           0.39    250000\n",
      "   macro avg       0.44      0.46      0.38    250000\n",
      "weighted avg       0.55      0.39      0.40    250000\n",
      "\n"
     ]
    }
   ],
   "source": [
    "accuracy = model.evaluate(X_tr_res, y_tr_res, verbose=0)\n",
    "print(f'Keras training model loss: {round(accuracy[0] * 100, 2)}')\n",
    "print(f'Keras training model accuracy: {round(accuracy[1] * 100, 2)}%')\n",
    "print('\\n')\n",
    "print('Keras Model Classification Report')\n",
    "keras_classes = model.predict_classes(X_test)\n",
    "print(classification_report(y_test, keras_classes))"
   ]
  },
  {
   "cell_type": "markdown",
   "metadata": {},
   "source": [
    "Very interesting how this model is performing so much differently than our other ones. It seems like the f1-scores of the three classes have leveled out, but the precisions and recalls are varying wildly. I would love to get more into this, but for the sake of time it's best to end here and draw some conclusions from our models."
   ]
  },
  {
   "cell_type": "markdown",
   "metadata": {},
   "source": [
    "# Final Thoughts"
   ]
  },
  {
   "cell_type": "markdown",
   "metadata": {},
   "source": [
    "After looking at all the models built, and looking at feature importances for the gradient boosting models, it seems like the side the pitcher is pitching from, how many balls in the count there are, how many strikes in the count there are, and what side the batter is hitting from are the most important variables for predicting the next pitch that is coming. Both the original gradient boosting model with the normal class representation, as well as all the resampled versions of the same model had pitcher side on top as the most important feature for predicting pitches. This certainly makes sense in the context of a game. Right handed pitchers are going to throw different pitches in different situations than left handed pitchers. Left handers and right handers match up differently against batters and will throw pitches based on these matchups. A right handed batter vs. left handed pitcher will match up differently than a left handed batter vs. left handed pitcher, and different pitches will be chosen based on these matchups. How many balls and strikes in the count will also dictate what pitch is thrown. Pitchers with more strikes in the count will be looking to stay ahead of batters and throw more breaking balls or off speed pitches. While pitchers who are behind in the count (more balls) will want to throw more fastballs to catch up. Ultimately all of these factors go into choosing what pitch is coming next."
   ]
  }
 ],
 "metadata": {
  "kernelspec": {
   "display_name": "Python 3",
   "language": "python",
   "name": "python3"
  },
  "language_info": {
   "codemirror_mode": {
    "name": "ipython",
    "version": 3
   },
   "file_extension": ".py",
   "mimetype": "text/x-python",
   "name": "python",
   "nbconvert_exporter": "python",
   "pygments_lexer": "ipython3",
   "version": "3.7.7"
  }
 },
 "nbformat": 4,
 "nbformat_minor": 4
}
