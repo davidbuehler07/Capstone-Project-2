{
 "cells": [
  {
   "cell_type": "code",
   "execution_count": 1,
   "metadata": {},
   "outputs": [],
   "source": [
    "import numpy as np\n",
    "import pandas as pd\n",
    "import matplotlib.pyplot as plt\n",
    "import seaborn as sns\n",
    "%matplotlib inline\n",
    "\n",
    "from sklearn.ensemble import GradientBoostingClassifier, RandomForestClassifier, AdaBoostClassifier\n",
    "from sklearn.neighbors import KNeighborsClassifier\n",
    "from sklearn.model_selection import train_test_split, GridSearchCV\n",
    "from sklearn.metrics import confusion_matrix, classification_report\n",
    "from sklearn.pipeline import Pipeline\n",
    "from sklearn.neural_network import MLPClassifier\n",
    "\n",
    "from imblearn.over_sampling import SMOTE"
   ]
  },
  {
   "cell_type": "code",
   "execution_count": 2,
   "metadata": {},
   "outputs": [
    {
     "name": "stderr",
     "output_type": "stream",
     "text": [
      "C:\\Users\\David C. Buehler\\Anaconda3\\lib\\site-packages\\numpy\\lib\\arraysetops.py:568: FutureWarning: elementwise comparison failed; returning scalar instead, but in the future will perform elementwise comparison\n",
      "  mask |= (ar1 == a)\n"
     ]
    }
   ],
   "source": [
    "combined_df = pd.read_csv('combined_df.csv', index_col=0)"
   ]
  },
  {
   "cell_type": "code",
   "execution_count": 5,
   "metadata": {},
   "outputs": [],
   "source": [
    "def sample(df, target_variable, sample_size=100):\n",
    "    \n",
    "    '''\n",
    "    Pulls a user defined sample of the given data set, and keeps the class representation of the original data set.\n",
    "    '''\n",
    "    \n",
    "    df.drop(df[df[target_variable] == 'OT'].index, inplace=True)\n",
    "    appended_data = []\n",
    "    perc_dict = {k:v/len(df) for k, v in list(df[target_variable].value_counts().items())[0:3]}\n",
    "    \n",
    "    for k in perc_dict.keys():\n",
    "        n = round(sample_size * perc_dict[k])\n",
    "        data = df[df[target_variable] == k].sample(n=n, random_state=11)\n",
    "        appended_data.append(data)\n",
    "\n",
    "    sample_df = pd.concat(appended_data)\n",
    "    \n",
    "    return sample_df"
   ]
  },
  {
   "cell_type": "code",
   "execution_count": 6,
   "metadata": {},
   "outputs": [],
   "source": [
    "def split_data(df, target_variable, sample_df, sample_size=100, **kwargs):\n",
    "    \n",
    "    '''\n",
    "    Function that does the train_test_split. Can sample the data set before hand, or choose a specific pitcher\n",
    "    by specifying first_name and last_name\n",
    "    '''\n",
    "\n",
    "    if sample_df and kwargs:\n",
    "        raise ValueError(\n",
    "            'Can not choose a pitcher and sample at the same time. Must choose one or the other')\n",
    "\n",
    "    if sample_df:\n",
    "        df = sample(df, target_variable, sample_size)\n",
    "\n",
    "    if kwargs:\n",
    "        kwarg_list = list(kwargs.items())\n",
    "        df = df[(df[kwarg_list[0][0]] == kwarg_list[0][1]) &\n",
    "                (df[kwarg_list[1][0]] == kwarg_list[1][1])]\n",
    "\n",
    "    X = df.drop([target_variable, 'ab_id', 'batter_id', 'g_id', 'pitcher_id', 'px', 'pz',\n",
    "                 'CH', 'CU', 'EP', 'FA', 'FC', 'FF', 'FO', 'FS', 'FT', 'IN',\n",
    "                 'KC', 'KN', 'PO', 'SC', 'SI', 'SL', 'UN', 'id', 'year', 'target'], axis=1).select_dtypes(exclude='object')\n",
    "    y = df[target_variable]\n",
    "\n",
    "    X_tr, X_te, y_tr, y_te = train_test_split(X, y, random_state=47, stratify=y)\n",
    "        \n",
    "    return X_tr, X_te, y_tr, y_te"
   ]
  },
  {
   "cell_type": "code",
   "execution_count": 5,
   "metadata": {},
   "outputs": [],
   "source": [
    "def find_best_params(df, target_variable, *args, **kwargs):\n",
    "    \n",
    "    '''\n",
    "    Finds the best parameters of each individual model via cross validation for future modeling use.\n",
    "    '''\n",
    "    \n",
    "    X_train, X_test, y_train, y_test = split_data(df, target_variable, *args, **kwargs)\n",
    "    \n",
    "    model_list = [RandomForestClassifier(), GradientBoostingClassifier(), \n",
    "                  AdaBoostClassifier(), KNeighborsClassifier()]\n",
    "        \n",
    "    for model in model_list:\n",
    "        if model == model_list[0]:\n",
    "            steps = [('rf', RandomForestClassifier(random_state=11))]\n",
    "            param_grid = {'rf__n_estimators': np.arange(500, 5000, 500)}\n",
    "\n",
    "            pipeline = Pipeline(steps)\n",
    "            cv = GridSearchCV(pipeline, param_grid, cv=3)\n",
    "            cv.fit(X_train, y_train)\n",
    "\n",
    "            best_rf = cv.best_params_['rf__n_estimators']\n",
    "            \n",
    "        elif model == model_list[1]:\n",
    "            steps = [('gboost', GradientBoostingClassifier(random_state=11))]\n",
    "            param_grid = {'gboost__n_estimators': np.arange(500, 1500, 500)}\n",
    "\n",
    "            pipeline = Pipeline(steps)\n",
    "            cv = GridSearchCV(pipeline, param_grid, cv=3)\n",
    "            cv.fit(X_train, y_train)\n",
    "\n",
    "            best_gboost = cv.best_params_['gboost__n_estimators']\n",
    "                        \n",
    "        elif model == model_list[2]:\n",
    "            steps = [('aboost', AdaBoostClassifier(random_state=11))]\n",
    "            param_grid = {'aboost__n_estimators': np.arange(500, 5000, 500)}\n",
    "\n",
    "            pipeline = Pipeline(steps)\n",
    "            cv = GridSearchCV(pipeline, param_grid, cv=3)\n",
    "            cv.fit(X_train, y_train)\n",
    "\n",
    "            best_aboost = cv.best_params_['aboost__n_estimators']\n",
    "                        \n",
    "        elif model == model_list[3]:\n",
    "            steps = [('knn', KNeighborsClassifier())]\n",
    "            param_grid = {'knn__n_neighbors': np.arange(9, 23, 2)}\n",
    "\n",
    "            pipeline = Pipeline(steps)\n",
    "            cv = GridSearchCV(pipeline, param_grid, cv=3)\n",
    "            cv.fit(X_train, y_train)\n",
    "\n",
    "            best_knn = cv.best_params_['knn__n_neighbors']\n",
    "        \n",
    "    print(f'Best Random Forest estimators: {best_rf}')\n",
    "    print(f'Best Gradient Boosting estimators: {best_gboost}')\n",
    "    print(f'Best Ada Boosting estimators: {best_aboost}')\n",
    "    print(f'Best K Neighbors: {best_knn}')\n",
    "        \n",
    "    return best_rf, best_gboost, best_aboost, best_knn"
   ]
  },
  {
   "cell_type": "code",
   "execution_count": 6,
   "metadata": {},
   "outputs": [],
   "source": [
    "def get_classification_report(df, target_variable, *args, **kwargs):\n",
    "    \n",
    "    '''\n",
    "    All chosen models get input from the find_best_params function, and is used to fit and predict the data\n",
    "    '''\n",
    "    \n",
    "    X_train, X_test, y_train, y_test = split_data(df, target_variable, *args, **kwargs)\n",
    "    \n",
    "    best_rf, best_gboost, best_aboost, best_knn = find_best_params(df, target_variable, *args, **kwargs)\n",
    "    \n",
    "    rf = RandomForestClassifier(n_estimators=best_rf, random_state=11)\n",
    "    gboost = GradientBoostingClassifier(n_estimators=best_gboost, random_state=11)\n",
    "    aboost = AdaBoostClassifier(n_estimators=best_aboost, random_state=11)\n",
    "    knn = KNeighborsClassifier(n_neighbors=best_knn)\n",
    "    \n",
    "    rf_fit = rf.fit(X_train, y_train)\n",
    "    gboost_fit = gboost.fit(X_train, y_train)\n",
    "    aboost_fit = aboost.fit(X_train, y_train)\n",
    "    knn_fit = knn.fit(X_train, y_train)\n",
    "    \n",
    "    rf_predict = rf.predict(X_test)\n",
    "    gboost_predict = gboost.predict(X_test)\n",
    "    aboost_predict = aboost.predict(X_test)\n",
    "    knn_predict = knn.predict(X_test)\n",
    "\n",
    "    target_names = rf.classes_\n",
    "    print('Random Forest Classification Report:')\n",
    "    print(classification_report(y_test, rf_predict, target_names=target_names))\n",
    "    print('Gradient Boosting Classification Report:')\n",
    "    print(classification_report(y_test, gboost_predict, target_names=target_names))\n",
    "    print('Ada Boosting Classification Report:')\n",
    "    print(classification_report(y_test, aboost_predict, target_names=target_names))\n",
    "    print('K Neighbors Classification Report:')\n",
    "    print(classification_report(y_test, knn_predict, target_names=target_names))\n",
    "    "
   ]
  },
  {
   "cell_type": "code",
   "execution_count": 35,
   "metadata": {},
   "outputs": [
    {
     "name": "stdout",
     "output_type": "stream",
     "text": [
      "Best Random Forest estimators: 2500\n",
      "Best Gradient Boosting estimators: 500\n",
      "Best Ada Boosting estimators: 1000\n",
      "Best K Neighbors: 9\n",
      "Random Forest Classification Report:\n",
      "              precision    recall  f1-score   support\n",
      "\n",
      "          BB       0.39      0.29      0.33       792\n",
      "          FB       0.59      0.74      0.66      1402\n",
      "          OS       0.14      0.06      0.09       306\n",
      "\n",
      "    accuracy                           0.52      2500\n",
      "   macro avg       0.37      0.37      0.36      2500\n",
      "weighted avg       0.47      0.52      0.48      2500\n",
      "\n",
      "Gradient Boosting Classification Report:\n",
      "              precision    recall  f1-score   support\n",
      "\n",
      "          BB       0.42      0.19      0.26       792\n",
      "          FB       0.58      0.87      0.69      1402\n",
      "          OS       0.27      0.01      0.02       306\n",
      "\n",
      "    accuracy                           0.55      2500\n",
      "   macro avg       0.42      0.36      0.32      2500\n",
      "weighted avg       0.49      0.55      0.47      2500\n",
      "\n",
      "Ada Boosting Classification Report:\n",
      "              precision    recall  f1-score   support\n",
      "\n",
      "          BB       0.45      0.13      0.20       792\n",
      "          FB       0.57      0.93      0.71      1402\n",
      "          OS       0.00      0.00      0.00       306\n",
      "\n",
      "    accuracy                           0.56      2500\n",
      "   macro avg       0.34      0.35      0.30      2500\n",
      "weighted avg       0.46      0.56      0.46      2500\n",
      "\n",
      "K Neighbors Classification Report:\n",
      "              precision    recall  f1-score   support\n",
      "\n",
      "          BB       0.35      0.33      0.34       792\n",
      "          FB       0.58      0.72      0.65      1402\n",
      "          OS       0.17      0.02      0.04       306\n",
      "\n",
      "    accuracy                           0.51      2500\n",
      "   macro avg       0.37      0.36      0.34      2500\n",
      "weighted avg       0.46      0.51      0.47      2500\n",
      "\n",
      "Wall time: 3h 41min 26s\n"
     ]
    }
   ],
   "source": [
    "%%time\n",
    "get_classification_report(combined_df, 'pitch_type', sample_size=10000, sample_df=True)"
   ]
  },
  {
   "cell_type": "code",
   "execution_count": 10,
   "metadata": {},
   "outputs": [
    {
     "name": "stdout",
     "output_type": "stream",
     "text": [
      "Best Random Forest estimators: 4000\n",
      "Best Gradient Boosting estimators: 500\n",
      "Best Ada Boosting estimators: 2500\n",
      "Best K Neighbors: 21\n",
      "Random Forest Classification Report:\n",
      "              precision    recall  f1-score   support\n",
      "\n",
      "          BB       0.37      0.30      0.33      7920\n",
      "          FB       0.58      0.71      0.64     14018\n",
      "          OS       0.19      0.09      0.12      3062\n",
      "\n",
      "    accuracy                           0.50     25000\n",
      "   macro avg       0.38      0.37      0.36     25000\n",
      "weighted avg       0.47      0.50      0.48     25000\n",
      "\n",
      "Gradient Boosting Classification Report:\n",
      "              precision    recall  f1-score   support\n",
      "\n",
      "          BB       0.44      0.10      0.16      7920\n",
      "          FB       0.57      0.94      0.71     14018\n",
      "          OS       0.26      0.00      0.00      3062\n",
      "\n",
      "    accuracy                           0.56     25000\n",
      "   macro avg       0.42      0.35      0.29     25000\n",
      "weighted avg       0.49      0.56      0.45     25000\n",
      "\n",
      "Ada Boosting Classification Report:\n",
      "              precision    recall  f1-score   support\n",
      "\n",
      "          BB       0.41      0.07      0.12      7920\n",
      "          FB       0.57      0.95      0.71     14018\n",
      "          OS       0.00      0.00      0.00      3062\n",
      "\n",
      "    accuracy                           0.56     25000\n",
      "   macro avg       0.32      0.34      0.28     25000\n",
      "weighted avg       0.45      0.56      0.44     25000\n",
      "\n",
      "K Neighbors Classification Report:\n",
      "              precision    recall  f1-score   support\n",
      "\n",
      "          BB       0.37      0.25      0.30      7920\n",
      "          FB       0.58      0.81      0.67     14018\n",
      "          OS       0.25      0.01      0.02      3062\n",
      "\n",
      "    accuracy                           0.53     25000\n",
      "   macro avg       0.40      0.36      0.33     25000\n",
      "weighted avg       0.47      0.53      0.47     25000\n",
      "\n",
      "Wall time: 3h 40min 14s\n"
     ]
    }
   ],
   "source": [
    "%%time\n",
    "get_classification_report(combined_df, 'pitch_type', sample_size=100000, sample_df=True)"
   ]
  },
  {
   "cell_type": "code",
   "execution_count": null,
   "metadata": {},
   "outputs": [],
   "source": [
    "def gradient_boost(df, target_variable, *args, **kwargs):\n",
    "    \n",
    "    '''\n",
    "    Gradient boosting won as the best model. This function specifically focuses on gradient boosting and gives\n",
    "    feature importances in a graphical form.\n",
    "    '''\n",
    "\n",
    "    X_train, X_test, y_train, y_test = split_data(df, target_variable, *args, **kwargs)\n",
    "\n",
    "    steps = [('gboost', GradientBoostingClassifier(random_state=11))]\n",
    "    param_grid = {'gboost__n_estimators': np.arange(100, 1100, 100)}\n",
    "\n",
    "    pipeline = Pipeline(steps)\n",
    "    cv = GridSearchCV(pipeline, param_grid, cv=3)\n",
    "    cv.fit(X_train, y_train)\n",
    "\n",
    "    best_gboost = cv.best_params_['gboost__n_estimators']\n",
    "    print(best_gboost)\n",
    "\n",
    "    gboost = GradientBoostingClassifier(\n",
    "        n_estimators=best_gboost, random_state=11)\n",
    "    gboost_fit = gboost.fit(X_train, y_train)\n",
    "    gboost_predict = gboost.predict(X_test)\n",
    "\n",
    "    feature_importances = pd.DataFrame(pd.Series(gboost.feature_importances_), columns=['Importance'])\n",
    "    feature_importances.index = X_train.columns\n",
    "    feature_importances = feature_importances.sort_values('Importance')\n",
    "\n",
    "    plt.figure(figsize=(18,10))\n",
    "    plt.barh(feature_importances.index, width=feature_importances['Importance'] * 100, color='r')\n",
    "    plt.title(\"Gradient Boosting Feature Importances (%)\")\n",
    "    plt.xlabel('Percentage Importance')\n",
    "    plt.show()\n",
    "\n",
    "    target_names = gboost.classes_\n",
    "    print('Gradient Boosting Classification Report:')\n",
    "    print(classification_report(y_test, gboost_predict, target_names=target_names))\n"
   ]
  },
  {
   "cell_type": "code",
   "execution_count": 9,
   "metadata": {},
   "outputs": [
    {
     "name": "stdout",
     "output_type": "stream",
     "text": [
      "200\n"
     ]
    },
    {
     "data": {
      "image/png": "[encoded data removed]",
      "text/plain": [
       "<Figure size 864x720 with 1 Axes>"
      ]
     },
     "metadata": {
      "needs_background": "light"
     },
     "output_type": "display_data"
    },
    {
     "name": "stdout",
     "output_type": "stream",
     "text": [
      "Gradient Boosting Classification Report:\n",
      "              precision    recall  f1-score   support\n",
      "\n",
      "          BB       0.47      0.08      0.14     79195\n",
      "          FB       0.57      0.96      0.71    140182\n",
      "          OS       0.71      0.00      0.00     30623\n",
      "\n",
      "    accuracy                           0.56    250000\n",
      "   macro avg       0.58      0.35      0.28    250000\n",
      "weighted avg       0.55      0.56      0.44    250000\n",
      "\n"
     ]
    }
   ],
   "source": [
    "gradient_boost(combined_df, 'pitch_type', sample_df=True, sample_size=1000000)"
   ]
  },
  {
   "cell_type": "code",
   "execution_count": 10,
   "metadata": {},
   "outputs": [
    {
     "name": "stdout",
     "output_type": "stream",
     "text": [
      "500\n"
     ]
    },
    {
     "data": {
      "image/png": "[encoded data removed]",
      "text/plain": [
       "<Figure size 864x720 with 1 Axes>"
      ]
     },
     "metadata": {
      "needs_background": "light"
     },
     "output_type": "display_data"
    },
    {
     "name": "stdout",
     "output_type": "stream",
     "text": [
      "Gradient Boosting Classification Report:\n",
      "              precision    recall  f1-score   support\n",
      "\n",
      "          BB       0.47      0.09      0.15    225509\n",
      "          FB       0.57      0.95      0.71    399170\n",
      "          OS       0.71      0.00      0.00     87199\n",
      "\n",
      "    accuracy                           0.56    711878\n",
      "   macro avg       0.58      0.35      0.29    711878\n",
      "weighted avg       0.55      0.56      0.45    711878\n",
      "\n"
     ]
    }
   ],
   "source": [
    "gradient_boost(combined_df, 'pitch_type')"
   ]
  },
  {
   "cell_type": "code",
   "execution_count": 29,
   "metadata": {},
   "outputs": [],
   "source": [
    "def gradient_boost_sampling(df, target_variable, *args, **kwargs):\n",
    "    \n",
    "    '''\n",
    "    Function that takes random numbers from 48798-348798 to test different levels of class representation with\n",
    "    the gradient boosting model. Performs 5 test runs\n",
    "    '''\n",
    "    \n",
    "    df.drop(df[df[target_variable] == 'OT'].index, inplace=True)\n",
    "    sample_list = list(np.arange(48798, 368798, 20000))\n",
    "    FB_percs = []\n",
    "    BB_percs = []\n",
    "    OS_percs = []\n",
    "    test_scores = []\n",
    "    \n",
    "    n=1\n",
    "    while n <= 5:\n",
    "        \n",
    "        appended_data = []\n",
    "        \n",
    "        for i in df[target_variable].unique():\n",
    "            data = df[df[target_variable] == i].sample(n=np.random.choice(sample_list, replace=False), replace=True, random_state=11)\n",
    "            appended_data.append(data)\n",
    "            \n",
    "        sample_df = pd.concat(appended_data)\n",
    "        FB_percs.append(round(sample_df[sample_df[target_variable] == 'FB'][target_variable].count()/len(sample_df) * 100, 2))\n",
    "        BB_percs.append(round(sample_df[sample_df[target_variable] == 'BB'][target_variable].count()/len(sample_df) * 100, 2))\n",
    "        OS_percs.append(round(sample_df[sample_df[target_variable] == 'OS'][target_variable].count()/len(sample_df) * 100, 2))\n",
    "    \n",
    "        X = sample_df.drop([target_variable, 'ab_id', 'batter_id', 'g_id', 'pitcher_id', 'px', 'pz',\n",
    "                            'CH', 'CU', 'EP', 'FA', 'FC', 'FF', 'FO', 'FS', 'FT', 'IN',\n",
    "                            'KC', 'KN', 'PO', 'SC', 'SI', 'SL', 'UN', 'id', 'year', 'target'], axis=1).select_dtypes(exclude='object')\n",
    "        y = sample_df[target_variable]\n",
    "\n",
    "        X_train, X_test, y_train, y_test = train_test_split(X, y, random_state=47, stratify=y)\n",
    "\n",
    "        steps = [('gboost', GradientBoostingClassifier(random_state=11))]\n",
    "        param_grid = {'gboost__n_estimators': np.arange(500, 1100, 100)}\n",
    "\n",
    "        pipeline = Pipeline(steps)\n",
    "        cv = GridSearchCV(pipeline, param_grid, cv=3)\n",
    "        cv.fit(X_train, y_train)\n",
    "\n",
    "        best_gboost = cv.best_params_['gboost__n_estimators']\n",
    "\n",
    "        gboost = GradientBoostingClassifier(n_estimators=best_gboost, random_state=11)\n",
    "        gboost_fit = gboost.fit(X_train, y_train)\n",
    "        gboost_predict = gboost.predict(X_test)\n",
    "\n",
    "        feature_importances = pd.DataFrame(pd.Series(gboost.feature_importances_), columns=['Importance'])\n",
    "        feature_importances.index = X_train.columns\n",
    "        feature_importances = feature_importances.sort_values('Importance')\n",
    "\n",
    "        plt.figure(figsize=(18,10))\n",
    "        plt.barh(feature_importances.index, width=feature_importances['Importance'] * 100, color='r')\n",
    "        plt.title(\"Gradient Boosting Feature Importances (%)\")\n",
    "        plt.xlabel('Percentage Importance')\n",
    "        plt.show()\n",
    "\n",
    "        target_names = gboost.classes_\n",
    "        print('Gradient Boosting Classification Report:')\n",
    "        print(classification_report(y_test, gboost_predict, target_names=target_names))\n",
    "        \n",
    "        test_scores.append(round(gboost.score(X_test, y_test) * 100, 2))\n",
    "        \n",
    "        n += 1\n",
    "        \n",
    "    perc_dict = {'FB_percs': FB_percs, 'BB_percs': BB_percs, 'OS_percs': OS_percs, 'test_scores': test_scores}\n",
    "    \n",
    "    info_df = pd.DataFrame.from_dict(perc_dict)\n",
    "    \n",
    "    return info_df"
   ]
  },
  {
   "cell_type": "code",
   "execution_count": 30,
   "metadata": {
    "scrolled": false
   },
   "outputs": [
    {
     "data": {
      "image/png": "[encoded data removed]",
      "text/plain": [
       "<Figure size 1296x720 with 1 Axes>"
      ]
     },
     "metadata": {
      "needs_background": "light"
     },
     "output_type": "display_data"
    },
    {
     "name": "stdout",
     "output_type": "stream",
     "text": [
      "Gradient Boosting Classification Report:\n",
      "              precision    recall  f1-score   support\n",
      "\n",
      "          BB       0.58      0.90      0.70     87200\n",
      "          FB       0.52      0.09      0.15     32199\n",
      "          OS       0.45      0.21      0.29     42200\n",
      "\n",
      "    accuracy                           0.56    161599\n",
      "   macro avg       0.52      0.40      0.38    161599\n",
      "weighted avg       0.53      0.56      0.48    161599\n",
      "\n"
     ]
    },
    {
     "data": {
      "image/png": "[encoded data removed]",
      "text/plain": [
       "<Figure size 1296x720 with 1 Axes>"
      ]
     },
     "metadata": {
      "needs_background": "light"
     },
     "output_type": "display_data"
    },
    {
     "name": "stdout",
     "output_type": "stream",
     "text": [
      "Gradient Boosting Classification Report:\n",
      "              precision    recall  f1-score   support\n",
      "\n",
      "          BB       0.47      0.48      0.47     42200\n",
      "          FB       0.52      0.15      0.24     32199\n",
      "          OS       0.52      0.74      0.61     52200\n",
      "\n",
      "    accuracy                           0.50    126599\n",
      "   macro avg       0.50      0.46      0.44    126599\n",
      "weighted avg       0.50      0.50      0.47    126599\n",
      "\n"
     ]
    },
    {
     "data": {
      "image/png": "[encoded data removed]",
      "text/plain": [
       "<Figure size 1296x720 with 1 Axes>"
      ]
     },
     "metadata": {
      "needs_background": "light"
     },
     "output_type": "display_data"
    },
    {
     "name": "stdout",
     "output_type": "stream",
     "text": [
      "Gradient Boosting Classification Report:\n",
      "              precision    recall  f1-score   support\n",
      "\n",
      "          BB       0.63      0.97      0.77     87200\n",
      "          FB       0.57      0.12      0.20     37200\n",
      "          OS       0.28      0.00      0.00     17199\n",
      "\n",
      "    accuracy                           0.63    141599\n",
      "   macro avg       0.49      0.36      0.32    141599\n",
      "weighted avg       0.57      0.63      0.52    141599\n",
      "\n"
     ]
    },
    {
     "data": {
      "image/png": "[encoded data removed]",
      "text/plain": [
       "<Figure size 1296x720 with 1 Axes>"
      ]
     },
     "metadata": {
      "needs_background": "light"
     },
     "output_type": "display_data"
    },
    {
     "name": "stdout",
     "output_type": "stream",
     "text": [
      "Gradient Boosting Classification Report:\n",
      "              precision    recall  f1-score   support\n",
      "\n",
      "          BB       0.42      0.33      0.37     67199\n",
      "          FB       0.50      0.38      0.43     82200\n",
      "          OS       0.49      0.68      0.57     87200\n",
      "\n",
      "    accuracy                           0.48    236599\n",
      "   macro avg       0.47      0.46      0.46    236599\n",
      "weighted avg       0.47      0.48      0.46    236599\n",
      "\n"
     ]
    },
    {
     "data": {
      "image/png": "[encoded data removed]",
      "text/plain": [
       "<Figure size 1296x720 with 1 Axes>"
      ]
     },
     "metadata": {
      "needs_background": "light"
     },
     "output_type": "display_data"
    },
    {
     "name": "stdout",
     "output_type": "stream",
     "text": [
      "Gradient Boosting Classification Report:\n",
      "              precision    recall  f1-score   support\n",
      "\n",
      "          BB       0.43      0.38      0.41     62199\n",
      "          FB       0.50      0.46      0.48     77200\n",
      "          OS       0.44      0.54      0.49     62200\n",
      "\n",
      "    accuracy                           0.46    201599\n",
      "   macro avg       0.46      0.46      0.46    201599\n",
      "weighted avg       0.46      0.46      0.46    201599\n",
      "\n"
     ]
    },
    {
     "data": {
      "text/html": [
       "<div>\n",
       "<style scoped>\n",
       "    .dataframe tbody tr th:only-of-type {\n",
       "        vertical-align: middle;\n",
       "    }\n",
       "\n",
       "    .dataframe tbody tr th {\n",
       "        vertical-align: top;\n",
       "    }\n",
       "\n",
       "    .dataframe thead th {\n",
       "        text-align: right;\n",
       "    }\n",
       "</style>\n",
       "<table border=\"1\" class=\"dataframe\">\n",
       "  <thead>\n",
       "    <tr style=\"text-align: right;\">\n",
       "      <th></th>\n",
       "      <th>FB_percs</th>\n",
       "      <th>BB_percs</th>\n",
       "      <th>OS_percs</th>\n",
       "      <th>test_scores</th>\n",
       "    </tr>\n",
       "  </thead>\n",
       "  <tbody>\n",
       "    <tr>\n",
       "      <th>0</th>\n",
       "      <td>19.93</td>\n",
       "      <td>53.96</td>\n",
       "      <td>26.11</td>\n",
       "      <td>0.56</td>\n",
       "    </tr>\n",
       "    <tr>\n",
       "      <th>1</th>\n",
       "      <td>25.43</td>\n",
       "      <td>33.33</td>\n",
       "      <td>41.23</td>\n",
       "      <td>0.50</td>\n",
       "    </tr>\n",
       "    <tr>\n",
       "      <th>2</th>\n",
       "      <td>26.27</td>\n",
       "      <td>61.58</td>\n",
       "      <td>12.15</td>\n",
       "      <td>0.63</td>\n",
       "    </tr>\n",
       "    <tr>\n",
       "      <th>3</th>\n",
       "      <td>34.74</td>\n",
       "      <td>28.40</td>\n",
       "      <td>36.86</td>\n",
       "      <td>0.48</td>\n",
       "    </tr>\n",
       "    <tr>\n",
       "      <th>4</th>\n",
       "      <td>38.29</td>\n",
       "      <td>30.85</td>\n",
       "      <td>30.85</td>\n",
       "      <td>0.46</td>\n",
       "    </tr>\n",
       "  </tbody>\n",
       "</table>\n",
       "</div>"
      ],
      "text/plain": [
       "   FB_percs  BB_percs  OS_percs  test_scores\n",
       "0     19.93     53.96     26.11         0.56\n",
       "1     25.43     33.33     41.23         0.50\n",
       "2     26.27     61.58     12.15         0.63\n",
       "3     34.74     28.40     36.86         0.48\n",
       "4     38.29     30.85     30.85         0.46"
      ]
     },
     "execution_count": 30,
     "metadata": {},
     "output_type": "execute_result"
    }
   ],
   "source": [
    "gradient_boost_sampling(combined_df, 'pitch_type')"
   ]
  },
  {
   "cell_type": "markdown",
   "metadata": {},
   "source": [
    "## Simple Neural Network"
   ]
  },
  {
   "cell_type": "code",
   "execution_count": 75,
   "metadata": {},
   "outputs": [],
   "source": [
    "X_train, X_test, y_train, y_test = split_data(combined_df, 'pitch_type', sample_df=True, sample_size=1000000)"
   ]
  },
  {
   "cell_type": "code",
   "execution_count": 76,
   "metadata": {},
   "outputs": [
    {
     "name": "stdout",
     "output_type": "stream",
     "text": [
      "<class 'pandas.core.frame.DataFrame'>\n",
      "Int64Index: 750000 entries, 1394906 to 2438656\n",
      "Data columns (total 15 columns):\n",
      "b_count           750000 non-null int64\n",
      "s_count           750000 non-null int64\n",
      "b_score           750000 non-null int64\n",
      "batter_side       750000 non-null float64\n",
      "inning            750000 non-null int64\n",
      "on1b              750000 non-null float64\n",
      "on2b              750000 non-null float64\n",
      "on3b              750000 non-null float64\n",
      "p_score           750000 non-null int64\n",
      "pitcher_side      750000 non-null float64\n",
      "top               750000 non-null float64\n",
      "pitcher_ahead     750000 non-null float64\n",
      "pitcher_behind    750000 non-null float64\n",
      "p_in_ab           750000 non-null int64\n",
      "runners_on        750000 non-null int64\n",
      "dtypes: float64(8), int64(7)\n",
      "memory usage: 91.6 MB\n"
     ]
    }
   ],
   "source": [
    "X_train.info()"
   ]
  },
  {
   "cell_type": "markdown",
   "metadata": {},
   "source": [
    "### Without resampling"
   ]
  },
  {
   "cell_type": "code",
   "execution_count": 77,
   "metadata": {},
   "outputs": [],
   "source": [
    "mlp = MLPClassifier(hidden_layer_sizes=(15,15,15,15,15,15,15,15), max_iter=10000, random_state=11)"
   ]
  },
  {
   "cell_type": "code",
   "execution_count": 78,
   "metadata": {},
   "outputs": [
    {
     "name": "stderr",
     "output_type": "stream",
     "text": [
      "C:\\Users\\David C. Buehler\\Anaconda3\\lib\\site-packages\\sklearn\\metrics\\_classification.py:1272: UndefinedMetricWarning: Precision and F-score are ill-defined and being set to 0.0 in labels with no predicted samples. Use `zero_division` parameter to control this behavior.\n",
      "  _warn_prf(average, modifier, msg_start, len(result))\n"
     ]
    },
    {
     "name": "stdout",
     "output_type": "stream",
     "text": [
      "              precision    recall  f1-score   support\n",
      "\n",
      "          BB       0.47      0.10      0.16     79195\n",
      "          FB       0.57      0.95      0.71    140182\n",
      "          OS       0.00      0.00      0.00     30623\n",
      "\n",
      "    accuracy                           0.56    250000\n",
      "   macro avg       0.35      0.35      0.29    250000\n",
      "weighted avg       0.47      0.56      0.45    250000\n",
      "\n"
     ]
    }
   ],
   "source": [
    "mlp.fit(X_train, y_train)\n",
    "y_pred = mlp.predict(X_test)\n",
    "print(classification_report(y_test, y_pred))"
   ]
  },
  {
   "cell_type": "markdown",
   "metadata": {},
   "source": [
    "### With resampling"
   ]
  },
  {
   "cell_type": "code",
   "execution_count": 79,
   "metadata": {},
   "outputs": [
    {
     "data": {
      "text/plain": [
       "FB    420546\n",
       "BB    237585\n",
       "OS     91869\n",
       "Name: pitch_type, dtype: int64"
      ]
     },
     "execution_count": 79,
     "metadata": {},
     "output_type": "execute_result"
    }
   ],
   "source": [
    "y_train.value_counts()"
   ]
  },
  {
   "cell_type": "code",
   "execution_count": 80,
   "metadata": {},
   "outputs": [
    {
     "data": {
      "text/plain": [
       "FB    420546\n",
       "BB    280364\n",
       "OS    210273\n",
       "Name: pitch_type, dtype: int64"
      ]
     },
     "execution_count": 80,
     "metadata": {},
     "output_type": "execute_result"
    }
   ],
   "source": [
    "sm = SMOTE(sampling_strategy={'FB':     y_train.value_counts().values[0], \n",
    "                              'BB': int(y_train.value_counts().values[0] / 1.5), \n",
    "                              'OS': int(y_train.value_counts().values[0] / 2)}, random_state=42)\n",
    "X_tr_res, y_tr_res = sm.fit_resample(X_train, y_train)\n",
    "\n",
    "y_tr_res.value_counts()"
   ]
  },
  {
   "cell_type": "code",
   "execution_count": 81,
   "metadata": {},
   "outputs": [
    {
     "name": "stdout",
     "output_type": "stream",
     "text": [
      "              precision    recall  f1-score   support\n",
      "\n",
      "          BB       0.44      0.23      0.31     79195\n",
      "          FB       0.59      0.78      0.67    140182\n",
      "          OS       0.24      0.19      0.21     30623\n",
      "\n",
      "    accuracy                           0.53    250000\n",
      "   macro avg       0.42      0.40      0.40    250000\n",
      "weighted avg       0.50      0.53      0.50    250000\n",
      "\n"
     ]
    }
   ],
   "source": [
    "mlp.fit(X_tr_res, y_tr_res)\n",
    "res_pred = mlp.predict(X_test)\n",
    "print(classification_report(y_test, res_pred))"
   ]
  },
  {
   "cell_type": "code",
   "execution_count": 82,
   "metadata": {},
   "outputs": [
    {
     "name": "stdout",
     "output_type": "stream",
     "text": [
      "FB    420546\n",
      "BB    336436\n",
      "OS    280364\n",
      "Name: pitch_type, dtype: int64\n"
     ]
    }
   ],
   "source": [
    "sm = SMOTE(sampling_strategy={'FB':     y_train.value_counts().values[0], \n",
    "                              'BB': int(y_train.value_counts().values[0] / 1.25), \n",
    "                              'OS': int(y_train.value_counts().values[0] / 1.5)}, random_state=42)\n",
    "X_tr_res, y_tr_res = sm.fit_resample(X_train, y_train)\n",
    "\n",
    "print(y_tr_res.value_counts())"
   ]
  },
  {
   "cell_type": "code",
   "execution_count": 83,
   "metadata": {},
   "outputs": [
    {
     "name": "stdout",
     "output_type": "stream",
     "text": [
      "              precision    recall  f1-score   support\n",
      "\n",
      "          BB       0.42      0.39      0.40     79195\n",
      "          FB       0.63      0.56      0.59    140182\n",
      "          OS       0.21      0.36      0.27     30623\n",
      "\n",
      "    accuracy                           0.48    250000\n",
      "   macro avg       0.42      0.44      0.42    250000\n",
      "weighted avg       0.51      0.48      0.49    250000\n",
      "\n"
     ]
    }
   ],
   "source": [
    "mlp.fit(X_tr_res, y_tr_res)\n",
    "res_pred = mlp.predict(X_test)\n",
    "print(classification_report(y_test, res_pred))"
   ]
  },
  {
   "cell_type": "code",
   "execution_count": 84,
   "metadata": {},
   "outputs": [
    {
     "name": "stdout",
     "output_type": "stream",
     "text": [
      "BB    420546\n",
      "OS    420546\n",
      "FB    420546\n",
      "Name: pitch_type, dtype: int64\n",
      "              precision    recall  f1-score   support\n",
      "\n",
      "          BB       0.41      0.46      0.43     79195\n",
      "          FB       0.67      0.41      0.51    140182\n",
      "          OS       0.20      0.48      0.28     30623\n",
      "\n",
      "    accuracy                           0.44    250000\n",
      "   macro avg       0.42      0.45      0.41    250000\n",
      "weighted avg       0.53      0.44      0.46    250000\n",
      "\n"
     ]
    }
   ],
   "source": [
    "sm = SMOTE(sampling_strategy={'FB':     y_train.value_counts().values[0], \n",
    "                              'BB': int(y_train.value_counts().values[0]), \n",
    "                              'OS': int(y_train.value_counts().values[0])}, random_state=42)\n",
    "X_tr_res, y_tr_res = sm.fit_resample(X_train, y_train)\n",
    "\n",
    "print(y_tr_res.value_counts())\n",
    "\n",
    "mlp.fit(X_tr_res, y_tr_res)\n",
    "res_pred = mlp.predict(X_test)\n",
    "print(classification_report(y_test, res_pred))"
   ]
  },
  {
   "cell_type": "code",
   "execution_count": null,
   "metadata": {},
   "outputs": [],
   "source": []
  }
 ],
 "metadata": {
  "kernelspec": {
   "display_name": "Python 3",
   "language": "python",
   "name": "python3"
  },
  "language_info": {
   "codemirror_mode": {
    "name": "ipython",
    "version": 3
   },
   "file_extension": ".py",
   "mimetype": "text/x-python",
   "name": "python",
   "nbconvert_exporter": "python",
   "pygments_lexer": "ipython3",
   "version": "3.7.6"
  }
 },
 "nbformat": 4,
 "nbformat_minor": 2
}
