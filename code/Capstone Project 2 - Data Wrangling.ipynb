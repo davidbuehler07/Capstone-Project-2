{
 "cells": [
  {
   "cell_type": "code",
   "execution_count": 1,
   "metadata": {},
   "outputs": [],
   "source": [
    "import numpy as np\n",
    "import pandas as pd\n",
    "import matplotlib.pyplot as plt\n",
    "import seaborn as sns\n",
    "from tqdm import tqdm\n",
    "%matplotlib inline"
   ]
  },
  {
   "cell_type": "code",
   "execution_count": 2,
   "metadata": {
    "scrolled": true
   },
   "outputs": [],
   "source": [
    "_2015_df = pd.read_csv('pitches_processed_2015.csv', index_col=0)\n",
    "_2016_df = pd.read_csv('pitches_processed_2016.csv', index_col=0)\n",
    "_2017_df = pd.read_csv('pitches_processed_2017.csv', index_col=0)\n",
    "_2018_df = pd.read_csv('pitches_processed_2018.csv', index_col=0)\n",
    "player_names = pd.read_csv('player_names.csv')"
   ]
  },
  {
   "cell_type": "code",
   "execution_count": 3,
   "metadata": {},
   "outputs": [],
   "source": [
    "df_list = [_2015_df, _2016_df, _2017_df, _2018_df]"
   ]
  },
  {
   "cell_type": "code",
   "execution_count": 4,
   "metadata": {},
   "outputs": [
    {
     "data": {
      "text/plain": [
       "Index(['id', 'first_name', 'last_name'], dtype='object')"
      ]
     },
     "execution_count": 4,
     "metadata": {},
     "output_type": "execute_result"
    }
   ],
   "source": [
    "player_names.columns"
   ]
  },
  {
   "cell_type": "code",
   "execution_count": 5,
   "metadata": {},
   "outputs": [
    {
     "data": {
      "text/plain": [
       "Index(['ab_id', 'b_count', 's_count', 'b_score', 'batter_id', 'batter_side',\n",
       "       'code', 'g_id', 'inning', 'on1b', 'on2b', 'on3b', 'p_score',\n",
       "       'pitch_type', 'pitcher_id', 'pitcher_side', 'ptype', 'px', 'pz', 'top',\n",
       "       'target', 'pitcher_ahead', 'pitcher_behind', 'CH', 'CU', 'EP', 'FA',\n",
       "       'FC', 'FF', 'FO', 'FS', 'FT', 'IN', 'KC', 'KN', 'PO', 'SC', 'SI', 'SL',\n",
       "       'UN'],\n",
       "      dtype='object')"
      ]
     },
     "execution_count": 5,
     "metadata": {},
     "output_type": "execute_result"
    }
   ],
   "source": [
    "_2015_df.columns"
   ]
  },
  {
   "cell_type": "code",
   "execution_count": 6,
   "metadata": {},
   "outputs": [
    {
     "data": {
      "text/plain": [
       "array(['FF', 'SL', 'FT', 'CH', 'CU', 'FO', 'FC', 'SI', 'PO', 'FS', 'KC',\n",
       "       'IN', 'EP', 'UN', 'KN', 'SC', 'FA'], dtype=object)"
      ]
     },
     "execution_count": 6,
     "metadata": {},
     "output_type": "execute_result"
    }
   ],
   "source": [
    "_2015_df.pitch_type.unique()"
   ]
  },
  {
   "cell_type": "code",
   "execution_count": 7,
   "metadata": {
    "scrolled": false
   },
   "outputs": [],
   "source": [
    "_2015_df = _2015_df.merge(player_names, left_on='pitcher_id', right_on='id')"
   ]
  },
  {
   "cell_type": "code",
   "execution_count": 8,
   "metadata": {},
   "outputs": [
    {
     "data": {
      "text/html": [
       "<div>\n",
       "<style scoped>\n",
       "    .dataframe tbody tr th:only-of-type {\n",
       "        vertical-align: middle;\n",
       "    }\n",
       "\n",
       "    .dataframe tbody tr th {\n",
       "        vertical-align: top;\n",
       "    }\n",
       "\n",
       "    .dataframe thead th {\n",
       "        text-align: right;\n",
       "    }\n",
       "</style>\n",
       "<table border=\"1\" class=\"dataframe\">\n",
       "  <thead>\n",
       "    <tr style=\"text-align: right;\">\n",
       "      <th></th>\n",
       "      <th>ab_id</th>\n",
       "      <th>b_count</th>\n",
       "      <th>s_count</th>\n",
       "      <th>b_score</th>\n",
       "      <th>batter_id</th>\n",
       "      <th>batter_side</th>\n",
       "      <th>code</th>\n",
       "      <th>g_id</th>\n",
       "      <th>inning</th>\n",
       "      <th>on1b</th>\n",
       "      <th>...</th>\n",
       "      <th>KC</th>\n",
       "      <th>KN</th>\n",
       "      <th>PO</th>\n",
       "      <th>SC</th>\n",
       "      <th>SI</th>\n",
       "      <th>SL</th>\n",
       "      <th>UN</th>\n",
       "      <th>id</th>\n",
       "      <th>first_name</th>\n",
       "      <th>last_name</th>\n",
       "    </tr>\n",
       "  </thead>\n",
       "  <tbody>\n",
       "    <tr>\n",
       "      <th>0</th>\n",
       "      <td>2015000001</td>\n",
       "      <td>0</td>\n",
       "      <td>0</td>\n",
       "      <td>0</td>\n",
       "      <td>444876</td>\n",
       "      <td>True</td>\n",
       "      <td>C</td>\n",
       "      <td>201500001</td>\n",
       "      <td>1</td>\n",
       "      <td>False</td>\n",
       "      <td>...</td>\n",
       "      <td>0.0</td>\n",
       "      <td>0.0</td>\n",
       "      <td>0.0</td>\n",
       "      <td>0.0</td>\n",
       "      <td>0.0</td>\n",
       "      <td>0.149969</td>\n",
       "      <td>0.0</td>\n",
       "      <td>489119</td>\n",
       "      <td>Wade</td>\n",
       "      <td>Miley</td>\n",
       "    </tr>\n",
       "    <tr>\n",
       "      <th>1</th>\n",
       "      <td>2015000001</td>\n",
       "      <td>0</td>\n",
       "      <td>1</td>\n",
       "      <td>0</td>\n",
       "      <td>444876</td>\n",
       "      <td>True</td>\n",
       "      <td>F</td>\n",
       "      <td>201500001</td>\n",
       "      <td>1</td>\n",
       "      <td>False</td>\n",
       "      <td>...</td>\n",
       "      <td>0.0</td>\n",
       "      <td>0.0</td>\n",
       "      <td>0.0</td>\n",
       "      <td>0.0</td>\n",
       "      <td>0.0</td>\n",
       "      <td>0.149969</td>\n",
       "      <td>0.0</td>\n",
       "      <td>489119</td>\n",
       "      <td>Wade</td>\n",
       "      <td>Miley</td>\n",
       "    </tr>\n",
       "    <tr>\n",
       "      <th>2</th>\n",
       "      <td>2015000001</td>\n",
       "      <td>0</td>\n",
       "      <td>2</td>\n",
       "      <td>0</td>\n",
       "      <td>444876</td>\n",
       "      <td>True</td>\n",
       "      <td>B</td>\n",
       "      <td>201500001</td>\n",
       "      <td>1</td>\n",
       "      <td>False</td>\n",
       "      <td>...</td>\n",
       "      <td>0.0</td>\n",
       "      <td>0.0</td>\n",
       "      <td>0.0</td>\n",
       "      <td>0.0</td>\n",
       "      <td>0.0</td>\n",
       "      <td>0.149969</td>\n",
       "      <td>0.0</td>\n",
       "      <td>489119</td>\n",
       "      <td>Wade</td>\n",
       "      <td>Miley</td>\n",
       "    </tr>\n",
       "    <tr>\n",
       "      <th>3</th>\n",
       "      <td>2015000001</td>\n",
       "      <td>1</td>\n",
       "      <td>2</td>\n",
       "      <td>0</td>\n",
       "      <td>444876</td>\n",
       "      <td>True</td>\n",
       "      <td>D</td>\n",
       "      <td>201500001</td>\n",
       "      <td>1</td>\n",
       "      <td>False</td>\n",
       "      <td>...</td>\n",
       "      <td>0.0</td>\n",
       "      <td>0.0</td>\n",
       "      <td>0.0</td>\n",
       "      <td>0.0</td>\n",
       "      <td>0.0</td>\n",
       "      <td>0.149969</td>\n",
       "      <td>0.0</td>\n",
       "      <td>489119</td>\n",
       "      <td>Wade</td>\n",
       "      <td>Miley</td>\n",
       "    </tr>\n",
       "    <tr>\n",
       "      <th>4</th>\n",
       "      <td>2015000002</td>\n",
       "      <td>0</td>\n",
       "      <td>0</td>\n",
       "      <td>0</td>\n",
       "      <td>450314</td>\n",
       "      <td>True</td>\n",
       "      <td>F</td>\n",
       "      <td>201500001</td>\n",
       "      <td>1</td>\n",
       "      <td>True</td>\n",
       "      <td>...</td>\n",
       "      <td>0.0</td>\n",
       "      <td>0.0</td>\n",
       "      <td>0.0</td>\n",
       "      <td>0.0</td>\n",
       "      <td>0.0</td>\n",
       "      <td>0.149969</td>\n",
       "      <td>0.0</td>\n",
       "      <td>489119</td>\n",
       "      <td>Wade</td>\n",
       "      <td>Miley</td>\n",
       "    </tr>\n",
       "  </tbody>\n",
       "</table>\n",
       "<p>5 rows × 43 columns</p>\n",
       "</div>"
      ],
      "text/plain": [
       "        ab_id  b_count  s_count  b_score  batter_id  batter_side code  \\\n",
       "0  2015000001        0        0        0     444876         True    C   \n",
       "1  2015000001        0        1        0     444876         True    F   \n",
       "2  2015000001        0        2        0     444876         True    B   \n",
       "3  2015000001        1        2        0     444876         True    D   \n",
       "4  2015000002        0        0        0     450314         True    F   \n",
       "\n",
       "        g_id  inning   on1b  ...   KC   KN   PO   SC   SI        SL   UN  \\\n",
       "0  201500001       1  False  ...  0.0  0.0  0.0  0.0  0.0  0.149969  0.0   \n",
       "1  201500001       1  False  ...  0.0  0.0  0.0  0.0  0.0  0.149969  0.0   \n",
       "2  201500001       1  False  ...  0.0  0.0  0.0  0.0  0.0  0.149969  0.0   \n",
       "3  201500001       1  False  ...  0.0  0.0  0.0  0.0  0.0  0.149969  0.0   \n",
       "4  201500001       1   True  ...  0.0  0.0  0.0  0.0  0.0  0.149969  0.0   \n",
       "\n",
       "       id  first_name  last_name  \n",
       "0  489119        Wade      Miley  \n",
       "1  489119        Wade      Miley  \n",
       "2  489119        Wade      Miley  \n",
       "3  489119        Wade      Miley  \n",
       "4  489119        Wade      Miley  \n",
       "\n",
       "[5 rows x 43 columns]"
      ]
     },
     "execution_count": 8,
     "metadata": {},
     "output_type": "execute_result"
    }
   ],
   "source": [
    "_2015_df.head() "
   ]
  },
  {
   "cell_type": "code",
   "execution_count": 9,
   "metadata": {},
   "outputs": [],
   "source": [
    "wrangled_df_list = []\n",
    "\n",
    "def data_wrangling_4_classes(data_frames):\n",
    "    '''\n",
    "    Wrangles data for all 4 data frames in one function. data_frames must be a list of data frames.\n",
    "    '''\n",
    "    \n",
    "    for df in tqdm(data_frames):\n",
    "        \n",
    "        ball_4 = df[df.b_count == 4].index\n",
    "        df.drop(ball_4, axis=0, inplace=True)\n",
    "        df.replace(True, 1, inplace=True)\n",
    "        \n",
    "        df = df.merge(player_names, left_on='pitcher_id', right_on='id')\n",
    "        \n",
    "        df['pitch_type'].replace(['FF', 'FT', 'SI'], 'FB', inplace=True)\n",
    "        df['pitch_type'].replace(['CU', 'FC', 'KC', 'SL', 'SC'], 'BB', inplace=True)\n",
    "        df['pitch_type'].replace(['CH', 'EP', 'FS', 'KN'], 'OS', inplace=True)\n",
    "        df['pitch_type'].replace(['FO', 'PO', 'IN', 'UN', 'FA'], 'OT', inplace=True)\n",
    "    \n",
    "        d = {i: 0 for i in df['ab_id']}\n",
    "        p_in_ab_list = []\n",
    "        for i in df['ab_id']:\n",
    "            if i in d.keys():\n",
    "                d[i] += 1\n",
    "                p_in_ab_list.append(d[i])\n",
    "        df['p_in_ab'] = p_in_ab_list\n",
    "        \n",
    "        wrangled_df_list.append(df)\n",
    "    \n",
    "    return wrangled_df_list"
   ]
  },
  {
   "cell_type": "code",
   "execution_count": 10,
   "metadata": {
    "scrolled": true
   },
   "outputs": [
    {
     "name": "stderr",
     "output_type": "stream",
     "text": [
      "100%|██████████| 4/4 [00:22<00:00,  5.63s/it]\n"
     ]
    }
   ],
   "source": [
    "data_wrangling_4_classes(df_list);"
   ]
  },
  {
   "cell_type": "code",
   "execution_count": 11,
   "metadata": {},
   "outputs": [],
   "source": [
    "wrangled_2015_df_4_classes = wrangled_df_list[0]\n",
    "wrangled_2016_df_4_classes = wrangled_df_list[1]\n",
    "wrangled_2017_df_4_classes = wrangled_df_list[2]\n",
    "wrangled_2018_df_4_classes = wrangled_df_list[3]"
   ]
  },
  {
   "cell_type": "code",
   "execution_count": 12,
   "metadata": {},
   "outputs": [],
   "source": [
    "wrangled_2015_df_4_classes.to_csv('wrangled_2015_4_classes.csv')\n",
    "wrangled_2016_df_4_classes.to_csv('wrangled_2016_4_classes.csv')\n",
    "wrangled_2017_df_4_classes.to_csv('wrangled_2017_4_classes.csv')\n",
    "wrangled_2018_df_4_classes.to_csv('wrangled_2018_4_classes.csv')"
   ]
  },
  {
   "cell_type": "code",
   "execution_count": 13,
   "metadata": {},
   "outputs": [],
   "source": [
    "wrangled_df_list = []\n",
    "\n",
    "def data_wrangling_all_classes(data_frames):\n",
    "    '''\n",
    "    Wrangles data for all 4 data frames in one function. data_frames must be a list of data frames.\n",
    "    '''\n",
    "    \n",
    "    for df in tqdm(data_frames):\n",
    "        \n",
    "        ball_4 = df[df.b_count == 4].index\n",
    "        df.drop(ball_4, axis=0, inplace=True)\n",
    "        df.replace(True, 1, inplace=True)\n",
    "        \n",
    "        df = df.merge(player_names, left_on='pitcher_id', right_on='id')\n",
    "            \n",
    "        d = {i: 0 for i in df['ab_id']}\n",
    "        p_in_ab_list = []\n",
    "        for i in df['ab_id']:\n",
    "            if i in d.keys():\n",
    "                d[i] += 1\n",
    "                p_in_ab_list.append(d[i])\n",
    "        df['p_in_ab'] = p_in_ab_list\n",
    "        \n",
    "        wrangled_df_list.append(df)\n",
    "    \n",
    "    return wrangled_df_list"
   ]
  },
  {
   "cell_type": "code",
   "execution_count": 14,
   "metadata": {},
   "outputs": [
    {
     "name": "stderr",
     "output_type": "stream",
     "text": [
      "100%|██████████| 4/4 [00:25<00:00,  6.49s/it]\n"
     ]
    }
   ],
   "source": [
    "data_wrangling_all_classes(df_list);"
   ]
  },
  {
   "cell_type": "code",
   "execution_count": 15,
   "metadata": {},
   "outputs": [],
   "source": [
    "wrangled_2015_df_all_classes = wrangled_df_list[0]\n",
    "wrangled_2016_df_all_classes = wrangled_df_list[1]\n",
    "wrangled_2017_df_all_classes = wrangled_df_list[2]\n",
    "wrangled_2018_df_all_classes = wrangled_df_list[3]"
   ]
  },
  {
   "cell_type": "code",
   "execution_count": 16,
   "metadata": {},
   "outputs": [],
   "source": [
    "wrangled_2015_df_all_classes.to_csv('wrangled_2015_all_classes.csv')\n",
    "wrangled_2016_df_all_classes.to_csv('wrangled_2016_all_classes.csv')\n",
    "wrangled_2017_df_all_classes.to_csv('wrangled_2017_all_classes.csv')\n",
    "wrangled_2018_df_all_classes.to_csv('wrangled_2018_all_classes.csv')"
   ]
  }
 ],
 "metadata": {
  "kernelspec": {
   "display_name": "Python 3",
   "language": "python",
   "name": "python3"
  },
  "language_info": {
   "codemirror_mode": {
    "name": "ipython",
    "version": 3
   },
   "file_extension": ".py",
   "mimetype": "text/x-python",
   "name": "python",
   "nbconvert_exporter": "python",
   "pygments_lexer": "ipython3",
   "version": "3.7.5"
  }
 },
 "nbformat": 4,
 "nbformat_minor": 2
}
