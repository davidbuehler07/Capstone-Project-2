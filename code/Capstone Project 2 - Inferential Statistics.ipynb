{
 "cells": [
  {
   "cell_type": "code",
   "execution_count": 1,
   "metadata": {},
   "outputs": [],
   "source": [
    "import pandas as pd\n",
    "import matplotlib.pyplot as plt\n",
    "\n",
    "import statsmodels.api as sm\n",
    "from scipy.stats import ttest_ind\n",
    "\n",
    "from statistics_functions import *\n",
    "%matplotlib inline"
   ]
  },
  {
   "cell_type": "code",
   "execution_count": 2,
   "metadata": {},
   "outputs": [
    {
     "name": "stderr",
     "output_type": "stream",
     "text": [
      "C:\\Users\\david\\anaconda3\\lib\\site-packages\\numpy\\lib\\arraysetops.py:569: FutureWarning: elementwise comparison failed; returning scalar instead, but in the future will perform elementwise comparison\n",
      "  mask |= (ar1 == a)\n"
     ]
    }
   ],
   "source": [
    "combined_df = pd.read_csv('../data/combined_df.csv', index_col=0)"
   ]
  },
  {
   "cell_type": "code",
   "execution_count": 3,
   "metadata": {},
   "outputs": [
    {
     "data": {
      "text/html": [
       "<div>\n",
       "<style scoped>\n",
       "    .dataframe tbody tr th:only-of-type {\n",
       "        vertical-align: middle;\n",
       "    }\n",
       "\n",
       "    .dataframe tbody tr th {\n",
       "        vertical-align: top;\n",
       "    }\n",
       "\n",
       "    .dataframe thead th {\n",
       "        text-align: right;\n",
       "    }\n",
       "</style>\n",
       "<table border=\"1\" class=\"dataframe\">\n",
       "  <thead>\n",
       "    <tr style=\"text-align: right;\">\n",
       "      <th></th>\n",
       "      <th>ab_id</th>\n",
       "      <th>b_count</th>\n",
       "      <th>s_count</th>\n",
       "      <th>b_score</th>\n",
       "      <th>batter_id</th>\n",
       "      <th>batter_side</th>\n",
       "      <th>code</th>\n",
       "      <th>g_id</th>\n",
       "      <th>inning</th>\n",
       "      <th>on1b</th>\n",
       "      <th>...</th>\n",
       "      <th>SC</th>\n",
       "      <th>SI</th>\n",
       "      <th>SL</th>\n",
       "      <th>UN</th>\n",
       "      <th>id</th>\n",
       "      <th>first_name</th>\n",
       "      <th>last_name</th>\n",
       "      <th>p_in_ab</th>\n",
       "      <th>year</th>\n",
       "      <th>runners_on</th>\n",
       "    </tr>\n",
       "  </thead>\n",
       "  <tbody>\n",
       "    <tr>\n",
       "      <th>0</th>\n",
       "      <td>2015000001</td>\n",
       "      <td>0</td>\n",
       "      <td>0</td>\n",
       "      <td>0</td>\n",
       "      <td>444876</td>\n",
       "      <td>1.0</td>\n",
       "      <td>C</td>\n",
       "      <td>201500001</td>\n",
       "      <td>1</td>\n",
       "      <td>0.0</td>\n",
       "      <td>...</td>\n",
       "      <td>0.0</td>\n",
       "      <td>0.0</td>\n",
       "      <td>0.149969</td>\n",
       "      <td>0.0</td>\n",
       "      <td>489119</td>\n",
       "      <td>Wade</td>\n",
       "      <td>Miley</td>\n",
       "      <td>1</td>\n",
       "      <td>2015</td>\n",
       "      <td>0</td>\n",
       "    </tr>\n",
       "    <tr>\n",
       "      <th>1</th>\n",
       "      <td>2015000001</td>\n",
       "      <td>0</td>\n",
       "      <td>1</td>\n",
       "      <td>0</td>\n",
       "      <td>444876</td>\n",
       "      <td>1.0</td>\n",
       "      <td>F</td>\n",
       "      <td>201500001</td>\n",
       "      <td>1</td>\n",
       "      <td>0.0</td>\n",
       "      <td>...</td>\n",
       "      <td>0.0</td>\n",
       "      <td>0.0</td>\n",
       "      <td>0.149969</td>\n",
       "      <td>0.0</td>\n",
       "      <td>489119</td>\n",
       "      <td>Wade</td>\n",
       "      <td>Miley</td>\n",
       "      <td>2</td>\n",
       "      <td>2015</td>\n",
       "      <td>0</td>\n",
       "    </tr>\n",
       "    <tr>\n",
       "      <th>2</th>\n",
       "      <td>2015000001</td>\n",
       "      <td>0</td>\n",
       "      <td>2</td>\n",
       "      <td>0</td>\n",
       "      <td>444876</td>\n",
       "      <td>1.0</td>\n",
       "      <td>B</td>\n",
       "      <td>201500001</td>\n",
       "      <td>1</td>\n",
       "      <td>0.0</td>\n",
       "      <td>...</td>\n",
       "      <td>0.0</td>\n",
       "      <td>0.0</td>\n",
       "      <td>0.149969</td>\n",
       "      <td>0.0</td>\n",
       "      <td>489119</td>\n",
       "      <td>Wade</td>\n",
       "      <td>Miley</td>\n",
       "      <td>3</td>\n",
       "      <td>2015</td>\n",
       "      <td>0</td>\n",
       "    </tr>\n",
       "    <tr>\n",
       "      <th>3</th>\n",
       "      <td>2015000001</td>\n",
       "      <td>1</td>\n",
       "      <td>2</td>\n",
       "      <td>0</td>\n",
       "      <td>444876</td>\n",
       "      <td>1.0</td>\n",
       "      <td>D</td>\n",
       "      <td>201500001</td>\n",
       "      <td>1</td>\n",
       "      <td>0.0</td>\n",
       "      <td>...</td>\n",
       "      <td>0.0</td>\n",
       "      <td>0.0</td>\n",
       "      <td>0.149969</td>\n",
       "      <td>0.0</td>\n",
       "      <td>489119</td>\n",
       "      <td>Wade</td>\n",
       "      <td>Miley</td>\n",
       "      <td>4</td>\n",
       "      <td>2015</td>\n",
       "      <td>0</td>\n",
       "    </tr>\n",
       "    <tr>\n",
       "      <th>4</th>\n",
       "      <td>2015000002</td>\n",
       "      <td>0</td>\n",
       "      <td>0</td>\n",
       "      <td>0</td>\n",
       "      <td>450314</td>\n",
       "      <td>1.0</td>\n",
       "      <td>F</td>\n",
       "      <td>201500001</td>\n",
       "      <td>1</td>\n",
       "      <td>1.0</td>\n",
       "      <td>...</td>\n",
       "      <td>0.0</td>\n",
       "      <td>0.0</td>\n",
       "      <td>0.149969</td>\n",
       "      <td>0.0</td>\n",
       "      <td>489119</td>\n",
       "      <td>Wade</td>\n",
       "      <td>Miley</td>\n",
       "      <td>1</td>\n",
       "      <td>2015</td>\n",
       "      <td>1</td>\n",
       "    </tr>\n",
       "  </tbody>\n",
       "</table>\n",
       "<p>5 rows × 46 columns</p>\n",
       "</div>"
      ],
      "text/plain": [
       "        ab_id  b_count  s_count  b_score  batter_id  batter_side code  \\\n",
       "0  2015000001        0        0        0     444876          1.0    C   \n",
       "1  2015000001        0        1        0     444876          1.0    F   \n",
       "2  2015000001        0        2        0     444876          1.0    B   \n",
       "3  2015000001        1        2        0     444876          1.0    D   \n",
       "4  2015000002        0        0        0     450314          1.0    F   \n",
       "\n",
       "        g_id  inning  on1b  ...   SC   SI        SL   UN      id  first_name  \\\n",
       "0  201500001       1   0.0  ...  0.0  0.0  0.149969  0.0  489119        Wade   \n",
       "1  201500001       1   0.0  ...  0.0  0.0  0.149969  0.0  489119        Wade   \n",
       "2  201500001       1   0.0  ...  0.0  0.0  0.149969  0.0  489119        Wade   \n",
       "3  201500001       1   0.0  ...  0.0  0.0  0.149969  0.0  489119        Wade   \n",
       "4  201500001       1   1.0  ...  0.0  0.0  0.149969  0.0  489119        Wade   \n",
       "\n",
       "  last_name  p_in_ab  year  runners_on  \n",
       "0     Miley        1  2015           0  \n",
       "1     Miley        2  2015           0  \n",
       "2     Miley        3  2015           0  \n",
       "3     Miley        4  2015           0  \n",
       "4     Miley        1  2015           1  \n",
       "\n",
       "[5 rows x 46 columns]"
      ]
     },
     "execution_count": 3,
     "metadata": {},
     "output_type": "execute_result"
    }
   ],
   "source": [
    "combined_df.head()"
   ]
  },
  {
   "cell_type": "markdown",
   "metadata": {},
   "source": [
    "First we're going to perform a bootstrap test to see how significant the score differential is on a pitch thrown. We'll need to make a new column in the data set first to determine what the score differential is. We'll do (batter score - pitcher score), so the more positive the value, the farther the batter is ahead, and the more negative the value, the more the pitcher is ahead."
   ]
  },
  {
   "cell_type": "code",
   "execution_count": 4,
   "metadata": {},
   "outputs": [],
   "source": [
    "combined_df['score_diff'] = combined_df['b_score'] - combined_df['p_score']"
   ]
  },
  {
   "cell_type": "markdown",
   "metadata": {},
   "source": [
    "Let's see a histogram of the values to see if we're working with a normal distribution of differentials."
   ]
  },
  {
   "cell_type": "code",
   "execution_count": 5,
   "metadata": {},
   "outputs": [
    {
     "data": {
      "text/plain": [
       "48"
      ]
     },
     "execution_count": 5,
     "metadata": {},
     "output_type": "execute_result"
    }
   ],
   "source": [
    "range_diff = combined_df.score_diff.min() - combined_df.score_diff.max()\n",
    "-range_diff"
   ]
  },
  {
   "cell_type": "code",
   "execution_count": 6,
   "metadata": {},
   "outputs": [
    {
     "data": {
      "image/png": "[encoded data removed]",
      "text/plain": [
       "<Figure size 432x288 with 1 Axes>"
      ]
     },
     "metadata": {
      "needs_background": "light"
     },
     "output_type": "display_data"
    }
   ],
   "source": [
    "plt.hist(combined_df['score_diff'], bins = -range_diff )\n",
    "plt.show()"
   ]
  },
  {
   "cell_type": "markdown",
   "metadata": {},
   "source": [
    "Definitely normally distributed with a large spike at 0, which makes sense since every game starts 0-0"
   ]
  },
  {
   "cell_type": "markdown",
   "metadata": {},
   "source": [
    "The null hypothesis I'm testing is \"On average, pitchers will throw the same amount of fastballs/breaking balls/offspeed pitches no matter the score differential\" and I'm doing this for a 95% confidence interval, so if the p-value is less than 0.05, I'll reject that hypothesis."
   ]
  },
  {
   "cell_type": "code",
   "execution_count": 7,
   "metadata": {},
   "outputs": [
    {
     "name": "stdout",
     "output_type": "stream",
     "text": [
      "95% percentile for pitches that are FB: [0.01399313 0.02394216]\n",
      "95% percentile for pitches that are not FB: [0.11105723 0.12194188]\n"
     ]
    },
    {
     "data": {
      "image/png": "[encoded data removed]",
      "text/plain": [
       "<Figure size 432x288 with 1 Axes>"
      ]
     },
     "metadata": {
      "needs_background": "light"
     },
     "output_type": "display_data"
    },
    {
     "data": {
      "image/png": "[encoded data removed]",
      "text/plain": [
       "<Figure size 432x288 with 1 Axes>"
      ]
     },
     "metadata": {
      "needs_background": "light"
     },
     "output_type": "display_data"
    },
    {
     "name": "stdout",
     "output_type": "stream",
     "text": [
      "Ttest_indResult(statistic=22.34483040498021, pvalue=1.387219962068423e-110)\n"
     ]
    }
   ],
   "source": [
    "bootstrap_test(combined_df, 'FB')"
   ]
  },
  {
   "cell_type": "code",
   "execution_count": 8,
   "metadata": {},
   "outputs": [
    {
     "name": "stdout",
     "output_type": "stream",
     "text": [
      "95% percentile for pitches that are BB: [0.09700123 0.10988886]\n",
      "95% percentile for pitches that are not BB: [0.0380822  0.04701646]\n"
     ]
    },
    {
     "data": {
      "image/png": "[encoded data removed]",
      "text/plain": [
       "<Figure size 432x288 with 1 Axes>"
      ]
     },
     "metadata": {
      "needs_background": "light"
     },
     "output_type": "display_data"
    },
    {
     "data": {
      "image/png": "[encoded data removed]",
      "text/plain": [
       "<Figure size 432x288 with 1 Axes>"
      ]
     },
     "metadata": {
      "needs_background": "light"
     },
     "output_type": "display_data"
    },
    {
     "name": "stdout",
     "output_type": "stream",
     "text": [
      "Ttest_indResult(statistic=-35.87238584646978, pvalue=1.042501541694794e-281)\n"
     ]
    }
   ],
   "source": [
    "bootstrap_test(combined_df, 'BB')"
   ]
  },
  {
   "cell_type": "code",
   "execution_count": 9,
   "metadata": {},
   "outputs": [
    {
     "name": "stdout",
     "output_type": "stream",
     "text": [
      "95% percentile for pitches that are OS: [0.11719656 0.13730347]\n",
      "95% percentile for pitches that are not OS: [0.04871658 0.05659853]\n"
     ]
    },
    {
     "data": {
      "image/png": "[encoded data removed]",
      "text/plain": [
       "<Figure size 432x288 with 1 Axes>"
      ]
     },
     "metadata": {
      "needs_background": "light"
     },
     "output_type": "display_data"
    },
    {
     "data": {
      "image/png": "[encoded data removed]",
      "text/plain": [
       "<Figure size 432x288 with 1 Axes>"
      ]
     },
     "metadata": {
      "needs_background": "light"
     },
     "output_type": "display_data"
    },
    {
     "name": "stdout",
     "output_type": "stream",
     "text": [
      "Ttest_indResult(statistic=23.48832734018809, pvalue=6.344112357753109e-122)\n"
     ]
    }
   ],
   "source": [
    "bootstrap_test(combined_df, 'OS')"
   ]
  },
  {
   "cell_type": "markdown",
   "metadata": {},
   "source": [
    "After running a p-test for all of the different kinds of pitches tested, they all came back with a p-value of less than 0.05, which means that it's unlikely we saw these results just by chance, and the observed differences are statistically significant."
   ]
  },
  {
   "cell_type": "markdown",
   "metadata": {},
   "source": [
    "I didn't test the \"other\" category though, and wanted to make a special note of it since those heavily depend on the situation of the game, who's at bat, the score of the game, and what team is winning, so let's take a look at that category."
   ]
  },
  {
   "cell_type": "code",
   "execution_count": 10,
   "metadata": {},
   "outputs": [
    {
     "name": "stdout",
     "output_type": "stream",
     "text": [
      "95% percentile for pitches that are OT: [1.11089469 1.20494092]\n",
      "95% percentile for pitches that are not OT: [0.05519695 0.06253676]\n"
     ]
    },
    {
     "data": {
      "image/png": "[encoded data removed]",
      "text/plain": [
       "<Figure size 432x288 with 1 Axes>"
      ]
     },
     "metadata": {
      "needs_background": "light"
     },
     "output_type": "display_data"
    },
    {
     "data": {
      "image/png": "[encoded data removed]",
      "text/plain": [
       "<Figure size 432x288 with 1 Axes>"
      ]
     },
     "metadata": {
      "needs_background": "light"
     },
     "output_type": "display_data"
    },
    {
     "name": "stdout",
     "output_type": "stream",
     "text": [
      "Ttest_indResult(statistic=-40.86550265773747, pvalue=0.0)\n"
     ]
    }
   ],
   "source": [
    "bootstrap_test(combined_df, 'OT')"
   ]
  },
  {
   "cell_type": "markdown",
   "metadata": {},
   "source": [
    "A p-value of 0, just as I thought. It's interesting to see the histogram for the score differential with pitches that are in the \"other\" category. Pitch-outs, which usually lead to intentional walks, are in this category, so seeing the average score differential hover around 1 makes sense, as teams like to walk hitters that they know can cause trouble in close games. Especially if they're power hitters and can tie the game or put the hitting team ahead with one swing of the bat. "
   ]
  },
  {
   "cell_type": "markdown",
   "metadata": {},
   "source": [
    "Some of the things we looked at in the Storytelling notebook came up with some interesting results, namely how some of the different variables effected how many fastballs/breaking balls/offspeed were thrown. Two big ones were ball count and strike count, so let's look at how those effected fastball usage."
   ]
  },
  {
   "cell_type": "code",
   "execution_count": 11,
   "metadata": {},
   "outputs": [
    {
     "name": "stdout",
     "output_type": "stream",
     "text": [
      "Optimization terminated successfully.\n",
      "         Current function value: 0.682123\n",
      "         Iterations 4\n"
     ]
    },
    {
     "data": {
      "text/html": [
       "<table class=\"simpletable\">\n",
       "<caption>Logit Regression Results</caption>\n",
       "<tr>\n",
       "  <th>Dep. Variable:</th>      <td>pitch_type</td>    <th>  No. Observations:  </th>   <td>2855212</td>  \n",
       "</tr>\n",
       "<tr>\n",
       "  <th>Model:</th>                 <td>Logit</td>      <th>  Df Residuals:      </th>   <td>2855210</td>  \n",
       "</tr>\n",
       "<tr>\n",
       "  <th>Method:</th>                 <td>MLE</td>       <th>  Df Model:          </th>   <td>     1</td>   \n",
       "</tr>\n",
       "<tr>\n",
       "  <th>Date:</th>            <td>Thu, 02 Jul 2020</td> <th>  Pseudo R-squ.:     </th>  <td>0.005822</td>  \n",
       "</tr>\n",
       "<tr>\n",
       "  <th>Time:</th>                <td>10:37:15</td>     <th>  Log-Likelihood:    </th> <td>-1.9476e+06</td>\n",
       "</tr>\n",
       "<tr>\n",
       "  <th>converged:</th>             <td>True</td>       <th>  LL-Null:           </th> <td>-1.9590e+06</td>\n",
       "</tr>\n",
       "<tr>\n",
       "  <th>Covariance Type:</th>     <td>nonrobust</td>    <th>  LLR p-value:       </th>   <td> 0.000</td>   \n",
       "</tr>\n",
       "</table>\n",
       "<table class=\"simpletable\">\n",
       "<tr>\n",
       "     <td></td>        <th>coef</th>     <th>std err</th>      <th>z</th>      <th>P>|z|</th>  <th>[0.025</th>    <th>0.975]</th>  \n",
       "</tr>\n",
       "<tr>\n",
       "  <th>b_count</th> <td>    0.3162</td> <td>    0.001</td> <td>  245.380</td> <td> 0.000</td> <td>    0.314</td> <td>    0.319</td>\n",
       "</tr>\n",
       "<tr>\n",
       "  <th>s_count</th> <td>   -0.2123</td> <td>    0.001</td> <td> -155.233</td> <td> 0.000</td> <td>   -0.215</td> <td>   -0.210</td>\n",
       "</tr>\n",
       "</table>"
      ],
      "text/plain": [
       "<class 'statsmodels.iolib.summary.Summary'>\n",
       "\"\"\"\n",
       "                           Logit Regression Results                           \n",
       "==============================================================================\n",
       "Dep. Variable:             pitch_type   No. Observations:              2855212\n",
       "Model:                          Logit   Df Residuals:                  2855210\n",
       "Method:                           MLE   Df Model:                            1\n",
       "Date:                Thu, 02 Jul 2020   Pseudo R-squ.:                0.005822\n",
       "Time:                        10:37:15   Log-Likelihood:            -1.9476e+06\n",
       "converged:                       True   LL-Null:                   -1.9590e+06\n",
       "Covariance Type:            nonrobust   LLR p-value:                     0.000\n",
       "==============================================================================\n",
       "                 coef    std err          z      P>|z|      [0.025      0.975]\n",
       "------------------------------------------------------------------------------\n",
       "b_count        0.3162      0.001    245.380      0.000       0.314       0.319\n",
       "s_count       -0.2123      0.001   -155.233      0.000      -0.215      -0.210\n",
       "==============================================================================\n",
       "\"\"\""
      ]
     },
     "execution_count": 11,
     "metadata": {},
     "output_type": "execute_result"
    }
   ],
   "source": [
    "df_FB = combined_df.copy()\n",
    "df_FB['pitch_type'] = df_FB.apply(lambda row:change_pitch_type(row['pitch_type'], 'FB'), axis=1)\n",
    "df_FB['pitch_type']\n",
    "\n",
    "logit_FB = sm.Logit(df_FB['pitch_type'], df_FB[['b_count', 's_count']]).fit()\n",
    "logit_FB.summary()"
   ]
  },
  {
   "cell_type": "markdown",
   "metadata": {},
   "source": [
    "From this quick model, it seems that more fastballs will be thrown as the number of balls in the counts goes up, and less fastballs thrown with more strikes in the count. What about breaking balls?"
   ]
  },
  {
   "cell_type": "code",
   "execution_count": 12,
   "metadata": {},
   "outputs": [
    {
     "name": "stdout",
     "output_type": "stream",
     "text": [
      "Optimization terminated successfully.\n",
      "         Current function value: 0.647539\n",
      "         Iterations 5\n"
     ]
    },
    {
     "data": {
      "text/html": [
       "<table class=\"simpletable\">\n",
       "<caption>Logit Regression Results</caption>\n",
       "<tr>\n",
       "  <th>Dep. Variable:</th>      <td>pitch_type</td>    <th>  No. Observations:  </th>   <td>2855212</td>  \n",
       "</tr>\n",
       "<tr>\n",
       "  <th>Model:</th>                 <td>Logit</td>      <th>  Df Residuals:      </th>   <td>2855210</td>  \n",
       "</tr>\n",
       "<tr>\n",
       "  <th>Method:</th>                 <td>MLE</td>       <th>  Df Model:          </th>   <td>     1</td>   \n",
       "</tr>\n",
       "<tr>\n",
       "  <th>Date:</th>            <td>Thu, 02 Jul 2020</td> <th>  Pseudo R-squ.:     </th>  <td>-0.03812</td>  \n",
       "</tr>\n",
       "<tr>\n",
       "  <th>Time:</th>                <td>10:38:42</td>     <th>  Log-Likelihood:    </th> <td>-1.8489e+06</td>\n",
       "</tr>\n",
       "<tr>\n",
       "  <th>converged:</th>             <td>True</td>       <th>  LL-Null:           </th> <td>-1.7810e+06</td>\n",
       "</tr>\n",
       "<tr>\n",
       "  <th>Covariance Type:</th>     <td>nonrobust</td>    <th>  LLR p-value:       </th>   <td> 1.000</td>   \n",
       "</tr>\n",
       "</table>\n",
       "<table class=\"simpletable\">\n",
       "<tr>\n",
       "     <td></td>        <th>coef</th>     <th>std err</th>      <th>z</th>      <th>P>|z|</th>  <th>[0.025</th>    <th>0.975]</th>  \n",
       "</tr>\n",
       "<tr>\n",
       "  <th>b_count</th> <td>   -0.4860</td> <td>    0.001</td> <td> -347.051</td> <td> 0.000</td> <td>   -0.489</td> <td>   -0.483</td>\n",
       "</tr>\n",
       "<tr>\n",
       "  <th>s_count</th> <td>   -0.0220</td> <td>    0.001</td> <td>  -15.742</td> <td> 0.000</td> <td>   -0.025</td> <td>   -0.019</td>\n",
       "</tr>\n",
       "</table>"
      ],
      "text/plain": [
       "<class 'statsmodels.iolib.summary.Summary'>\n",
       "\"\"\"\n",
       "                           Logit Regression Results                           \n",
       "==============================================================================\n",
       "Dep. Variable:             pitch_type   No. Observations:              2855212\n",
       "Model:                          Logit   Df Residuals:                  2855210\n",
       "Method:                           MLE   Df Model:                            1\n",
       "Date:                Thu, 02 Jul 2020   Pseudo R-squ.:                -0.03812\n",
       "Time:                        10:38:42   Log-Likelihood:            -1.8489e+06\n",
       "converged:                       True   LL-Null:                   -1.7810e+06\n",
       "Covariance Type:            nonrobust   LLR p-value:                     1.000\n",
       "==============================================================================\n",
       "                 coef    std err          z      P>|z|      [0.025      0.975]\n",
       "------------------------------------------------------------------------------\n",
       "b_count       -0.4860      0.001   -347.051      0.000      -0.489      -0.483\n",
       "s_count       -0.0220      0.001    -15.742      0.000      -0.025      -0.019\n",
       "==============================================================================\n",
       "\"\"\""
      ]
     },
     "execution_count": 12,
     "metadata": {},
     "output_type": "execute_result"
    }
   ],
   "source": [
    "df_BB = combined_df.copy()\n",
    "df_BB['pitch_type'] = df_BB.apply(lambda row:change_pitch_type(row['pitch_type'], 'BB'), axis=1)\n",
    "df_BB['pitch_type']\n",
    "\n",
    "logit_BB = sm.Logit(df_BB['pitch_type'], df_BB[['b_count', 's_count']]).fit()\n",
    "logit_BB.summary()"
   ]
  },
  {
   "cell_type": "markdown",
   "metadata": {},
   "source": [
    "Seems like breaking balls would be predicted to go down as pitchers get deeper into the count. This could make sense, we saw in the storytelling portion that pitchers threw more balls than strikes, so this could be a repurcussion of that. Both p-scores are 0 though, which means these are statistically good predicters for this pitch type."
   ]
  },
  {
   "cell_type": "code",
   "execution_count": 13,
   "metadata": {},
   "outputs": [
    {
     "name": "stdout",
     "output_type": "stream",
     "text": [
      "Optimization terminated successfully.\n",
      "         Current function value: 0.504012\n",
      "         Iterations 6\n"
     ]
    },
    {
     "data": {
      "text/html": [
       "<table class=\"simpletable\">\n",
       "<caption>Logit Regression Results</caption>\n",
       "<tr>\n",
       "  <th>Dep. Variable:</th>      <td>pitch_type</td>    <th>  No. Observations:  </th>   <td>2855212</td>  \n",
       "</tr>\n",
       "<tr>\n",
       "  <th>Model:</th>                 <td>Logit</td>      <th>  Df Residuals:      </th>   <td>2855210</td>  \n",
       "</tr>\n",
       "<tr>\n",
       "  <th>Method:</th>                 <td>MLE</td>       <th>  Df Model:          </th>   <td>     1</td>   \n",
       "</tr>\n",
       "<tr>\n",
       "  <th>Date:</th>            <td>Thu, 02 Jul 2020</td> <th>  Pseudo R-squ.:     </th>   <td>-0.3578</td>  \n",
       "</tr>\n",
       "<tr>\n",
       "  <th>Time:</th>                <td>10:40:11</td>     <th>  Log-Likelihood:    </th> <td>-1.4391e+06</td>\n",
       "</tr>\n",
       "<tr>\n",
       "  <th>converged:</th>             <td>True</td>       <th>  LL-Null:           </th> <td>-1.0599e+06</td>\n",
       "</tr>\n",
       "<tr>\n",
       "  <th>Covariance Type:</th>     <td>nonrobust</td>    <th>  LLR p-value:       </th>   <td> 1.000</td>   \n",
       "</tr>\n",
       "</table>\n",
       "<table class=\"simpletable\">\n",
       "<tr>\n",
       "     <td></td>        <th>coef</th>     <th>std err</th>      <th>z</th>      <th>P>|z|</th>  <th>[0.025</th>    <th>0.975]</th>  \n",
       "</tr>\n",
       "<tr>\n",
       "  <th>b_count</th> <td>   -0.6355</td> <td>    0.002</td> <td> -352.325</td> <td> 0.000</td> <td>   -0.639</td> <td>   -0.632</td>\n",
       "</tr>\n",
       "<tr>\n",
       "  <th>s_count</th> <td>   -0.7943</td> <td>    0.002</td> <td> -436.972</td> <td> 0.000</td> <td>   -0.798</td> <td>   -0.791</td>\n",
       "</tr>\n",
       "</table>"
      ],
      "text/plain": [
       "<class 'statsmodels.iolib.summary.Summary'>\n",
       "\"\"\"\n",
       "                           Logit Regression Results                           \n",
       "==============================================================================\n",
       "Dep. Variable:             pitch_type   No. Observations:              2855212\n",
       "Model:                          Logit   Df Residuals:                  2855210\n",
       "Method:                           MLE   Df Model:                            1\n",
       "Date:                Thu, 02 Jul 2020   Pseudo R-squ.:                 -0.3578\n",
       "Time:                        10:40:11   Log-Likelihood:            -1.4391e+06\n",
       "converged:                       True   LL-Null:                   -1.0599e+06\n",
       "Covariance Type:            nonrobust   LLR p-value:                     1.000\n",
       "==============================================================================\n",
       "                 coef    std err          z      P>|z|      [0.025      0.975]\n",
       "------------------------------------------------------------------------------\n",
       "b_count       -0.6355      0.002   -352.325      0.000      -0.639      -0.632\n",
       "s_count       -0.7943      0.002   -436.972      0.000      -0.798      -0.791\n",
       "==============================================================================\n",
       "\"\"\""
      ]
     },
     "execution_count": 13,
     "metadata": {},
     "output_type": "execute_result"
    }
   ],
   "source": [
    "df_OS = combined_df.copy()\n",
    "df_OS['pitch_type'] = df_OS.apply(lambda row:change_pitch_type(row['pitch_type'], 'OS'), axis=1)\n",
    "df_OS['pitch_type']\n",
    "\n",
    "logit_OS = sm.Logit(df_OS['pitch_type'], df_OS[['b_count', 's_count']]).fit()\n",
    "logit_OS.summary()"
   ]
  },
  {
   "cell_type": "markdown",
   "metadata": {},
   "source": [
    "Same deal as the breaking balls, as pitchers get deeper in to counts, they seem less likely to throw offspeed pitches, possibly for the same reason as breaking balls."
   ]
  },
  {
   "cell_type": "markdown",
   "metadata": {},
   "source": [
    "What about some other factors? Before we looked at the number of runners on and how that effects pitches thrown, let's take a look using the statsmodels, starting with fastballs again."
   ]
  },
  {
   "cell_type": "code",
   "execution_count": 14,
   "metadata": {},
   "outputs": [
    {
     "name": "stdout",
     "output_type": "stream",
     "text": [
      "Optimization terminated successfully.\n",
      "         Current function value: 0.691440\n",
      "         Iterations 4\n"
     ]
    },
    {
     "data": {
      "text/html": [
       "<table class=\"simpletable\">\n",
       "<caption>Logit Regression Results</caption>\n",
       "<tr>\n",
       "  <th>Dep. Variable:</th>      <td>pitch_type</td>    <th>  No. Observations:  </th>   <td>2855212</td>  \n",
       "</tr>\n",
       "<tr>\n",
       "  <th>Model:</th>                 <td>Logit</td>      <th>  Df Residuals:      </th>   <td>2855211</td>  \n",
       "</tr>\n",
       "<tr>\n",
       "  <th>Method:</th>                 <td>MLE</td>       <th>  Df Model:          </th>   <td>     0</td>   \n",
       "</tr>\n",
       "<tr>\n",
       "  <th>Date:</th>            <td>Thu, 02 Jul 2020</td> <th>  Pseudo R-squ.:     </th>  <td>-0.007756</td> \n",
       "</tr>\n",
       "<tr>\n",
       "  <th>Time:</th>                <td>10:41:32</td>     <th>  Log-Likelihood:    </th> <td>-1.9742e+06</td>\n",
       "</tr>\n",
       "<tr>\n",
       "  <th>converged:</th>             <td>True</td>       <th>  LL-Null:           </th> <td>-1.9590e+06</td>\n",
       "</tr>\n",
       "<tr>\n",
       "  <th>Covariance Type:</th>     <td>nonrobust</td>    <th>  LLR p-value:       </th>   <td>   nan</td>   \n",
       "</tr>\n",
       "</table>\n",
       "<table class=\"simpletable\">\n",
       "<tr>\n",
       "       <td></td>         <th>coef</th>     <th>std err</th>      <th>z</th>      <th>P>|z|</th>  <th>[0.025</th>    <th>0.975]</th>  \n",
       "</tr>\n",
       "<tr>\n",
       "  <th>runners_on</th> <td>    0.1206</td> <td>    0.001</td> <td>   98.378</td> <td> 0.000</td> <td>    0.118</td> <td>    0.123</td>\n",
       "</tr>\n",
       "</table>"
      ],
      "text/plain": [
       "<class 'statsmodels.iolib.summary.Summary'>\n",
       "\"\"\"\n",
       "                           Logit Regression Results                           \n",
       "==============================================================================\n",
       "Dep. Variable:             pitch_type   No. Observations:              2855212\n",
       "Model:                          Logit   Df Residuals:                  2855211\n",
       "Method:                           MLE   Df Model:                            0\n",
       "Date:                Thu, 02 Jul 2020   Pseudo R-squ.:               -0.007756\n",
       "Time:                        10:41:32   Log-Likelihood:            -1.9742e+06\n",
       "converged:                       True   LL-Null:                   -1.9590e+06\n",
       "Covariance Type:            nonrobust   LLR p-value:                       nan\n",
       "==============================================================================\n",
       "                 coef    std err          z      P>|z|      [0.025      0.975]\n",
       "------------------------------------------------------------------------------\n",
       "runners_on     0.1206      0.001     98.378      0.000       0.118       0.123\n",
       "==============================================================================\n",
       "\"\"\""
      ]
     },
     "execution_count": 14,
     "metadata": {},
     "output_type": "execute_result"
    }
   ],
   "source": [
    "df_FB = combined_df.copy()\n",
    "df_FB['pitch_type'] = df_FB.apply(lambda row:change_pitch_type(row['pitch_type'], 'FB'), axis=1)\n",
    "df_FB['pitch_type']\n",
    "\n",
    "logit_FB = sm.Logit(df_FB['pitch_type'], df_FB['runners_on']).fit()\n",
    "logit_FB.summary()"
   ]
  },
  {
   "cell_type": "markdown",
   "metadata": {},
   "source": [
    "Interesting result, seems like as the number of runners on base increases, it seems predicted that a pitcher will be more likely to throw a fastball. That was close to what we saw during the storytelling portion. How about breaking balls?"
   ]
  },
  {
   "cell_type": "code",
   "execution_count": 15,
   "metadata": {},
   "outputs": [
    {
     "name": "stdout",
     "output_type": "stream",
     "text": [
      "Optimization terminated successfully.\n",
      "         Current function value: 0.670625\n",
      "         Iterations 5\n"
     ]
    },
    {
     "data": {
      "text/html": [
       "<table class=\"simpletable\">\n",
       "<caption>Logit Regression Results</caption>\n",
       "<tr>\n",
       "  <th>Dep. Variable:</th>      <td>pitch_type</td>    <th>  No. Observations:  </th>   <td>2855212</td>  \n",
       "</tr>\n",
       "<tr>\n",
       "  <th>Model:</th>                 <td>Logit</td>      <th>  Df Residuals:      </th>   <td>2855211</td>  \n",
       "</tr>\n",
       "<tr>\n",
       "  <th>Method:</th>                 <td>MLE</td>       <th>  Df Model:          </th>   <td>     0</td>   \n",
       "</tr>\n",
       "<tr>\n",
       "  <th>Date:</th>            <td>Thu, 02 Jul 2020</td> <th>  Pseudo R-squ.:     </th>  <td>-0.07513</td>  \n",
       "</tr>\n",
       "<tr>\n",
       "  <th>Time:</th>                <td>10:42:54</td>     <th>  Log-Likelihood:    </th> <td>-1.9148e+06</td>\n",
       "</tr>\n",
       "<tr>\n",
       "  <th>converged:</th>             <td>True</td>       <th>  LL-Null:           </th> <td>-1.7810e+06</td>\n",
       "</tr>\n",
       "<tr>\n",
       "  <th>Covariance Type:</th>     <td>nonrobust</td>    <th>  LLR p-value:       </th>   <td>   nan</td>   \n",
       "</tr>\n",
       "</table>\n",
       "<table class=\"simpletable\">\n",
       "<tr>\n",
       "       <td></td>         <th>coef</th>     <th>std err</th>      <th>z</th>      <th>P>|z|</th>  <th>[0.025</th>    <th>0.975]</th>  \n",
       "</tr>\n",
       "<tr>\n",
       "  <th>runners_on</th> <td>   -0.4591</td> <td>    0.001</td> <td> -341.388</td> <td> 0.000</td> <td>   -0.462</td> <td>   -0.456</td>\n",
       "</tr>\n",
       "</table>"
      ],
      "text/plain": [
       "<class 'statsmodels.iolib.summary.Summary'>\n",
       "\"\"\"\n",
       "                           Logit Regression Results                           \n",
       "==============================================================================\n",
       "Dep. Variable:             pitch_type   No. Observations:              2855212\n",
       "Model:                          Logit   Df Residuals:                  2855211\n",
       "Method:                           MLE   Df Model:                            0\n",
       "Date:                Thu, 02 Jul 2020   Pseudo R-squ.:                -0.07513\n",
       "Time:                        10:42:54   Log-Likelihood:            -1.9148e+06\n",
       "converged:                       True   LL-Null:                   -1.7810e+06\n",
       "Covariance Type:            nonrobust   LLR p-value:                       nan\n",
       "==============================================================================\n",
       "                 coef    std err          z      P>|z|      [0.025      0.975]\n",
       "------------------------------------------------------------------------------\n",
       "runners_on    -0.4591      0.001   -341.388      0.000      -0.462      -0.456\n",
       "==============================================================================\n",
       "\"\"\""
      ]
     },
     "execution_count": 15,
     "metadata": {},
     "output_type": "execute_result"
    }
   ],
   "source": [
    "df_BB = combined_df.copy()\n",
    "df_BB['pitch_type'] = df_BB.apply(lambda row:change_pitch_type(row['pitch_type'], 'BB'), axis=1)\n",
    "df_BB['pitch_type']\n",
    "\n",
    "logit_BB = sm.Logit(df_BB['pitch_type'], df_BB['runners_on']).fit()\n",
    "logit_BB.summary()"
   ]
  },
  {
   "cell_type": "markdown",
   "metadata": {},
   "source": [
    "Starting to deviate from what we saw in the storytelling portion. As more runners got on base, it seemed like pitchers threw a higher percentage of breaking balls, but here it's the other way around. As more runners get on base, pitchers will be less likely to throw them, according to the model."
   ]
  },
  {
   "cell_type": "code",
   "execution_count": 16,
   "metadata": {},
   "outputs": [
    {
     "name": "stdout",
     "output_type": "stream",
     "text": [
      "Optimization terminated successfully.\n",
      "         Current function value: 0.567874\n",
      "         Iterations 6\n"
     ]
    },
    {
     "data": {
      "text/html": [
       "<table class=\"simpletable\">\n",
       "<caption>Logit Regression Results</caption>\n",
       "<tr>\n",
       "  <th>Dep. Variable:</th>      <td>pitch_type</td>    <th>  No. Observations:  </th>   <td>2855212</td>  \n",
       "</tr>\n",
       "<tr>\n",
       "  <th>Model:</th>                 <td>Logit</td>      <th>  Df Residuals:      </th>   <td>2855211</td>  \n",
       "</tr>\n",
       "<tr>\n",
       "  <th>Method:</th>                 <td>MLE</td>       <th>  Df Model:          </th>   <td>     0</td>   \n",
       "</tr>\n",
       "<tr>\n",
       "  <th>Date:</th>            <td>Thu, 02 Jul 2020</td> <th>  Pseudo R-squ.:     </th>   <td>-0.5298</td>  \n",
       "</tr>\n",
       "<tr>\n",
       "  <th>Time:</th>                <td>10:44:19</td>     <th>  Log-Likelihood:    </th> <td>-1.6214e+06</td>\n",
       "</tr>\n",
       "<tr>\n",
       "  <th>converged:</th>             <td>True</td>       <th>  LL-Null:           </th> <td>-1.0599e+06</td>\n",
       "</tr>\n",
       "<tr>\n",
       "  <th>Covariance Type:</th>     <td>nonrobust</td>    <th>  LLR p-value:       </th>   <td>   nan</td>   \n",
       "</tr>\n",
       "</table>\n",
       "<table class=\"simpletable\">\n",
       "<tr>\n",
       "       <td></td>         <th>coef</th>     <th>std err</th>      <th>z</th>      <th>P>|z|</th>  <th>[0.025</th>    <th>0.975]</th>  \n",
       "</tr>\n",
       "<tr>\n",
       "  <th>runners_on</th> <td>   -1.4131</td> <td>    0.002</td> <td> -640.441</td> <td> 0.000</td> <td>   -1.417</td> <td>   -1.409</td>\n",
       "</tr>\n",
       "</table>"
      ],
      "text/plain": [
       "<class 'statsmodels.iolib.summary.Summary'>\n",
       "\"\"\"\n",
       "                           Logit Regression Results                           \n",
       "==============================================================================\n",
       "Dep. Variable:             pitch_type   No. Observations:              2855212\n",
       "Model:                          Logit   Df Residuals:                  2855211\n",
       "Method:                           MLE   Df Model:                            0\n",
       "Date:                Thu, 02 Jul 2020   Pseudo R-squ.:                 -0.5298\n",
       "Time:                        10:44:19   Log-Likelihood:            -1.6214e+06\n",
       "converged:                       True   LL-Null:                   -1.0599e+06\n",
       "Covariance Type:            nonrobust   LLR p-value:                       nan\n",
       "==============================================================================\n",
       "                 coef    std err          z      P>|z|      [0.025      0.975]\n",
       "------------------------------------------------------------------------------\n",
       "runners_on    -1.4131      0.002   -640.441      0.000      -1.417      -1.409\n",
       "==============================================================================\n",
       "\"\"\""
      ]
     },
     "execution_count": 16,
     "metadata": {},
     "output_type": "execute_result"
    }
   ],
   "source": [
    "df_OS = combined_df.copy()\n",
    "df_OS['pitch_type'] = df_OS.apply(lambda row:change_pitch_type(row['pitch_type'], 'OS'), axis=1)\n",
    "df_OS['pitch_type']\n",
    "\n",
    "logit_OS = sm.Logit(df_OS['pitch_type'], df_OS['runners_on']).fit()\n",
    "logit_OS.summary()"
   ]
  },
  {
   "cell_type": "markdown",
   "metadata": {},
   "source": [
    "Same as the breaking balls, just more drastic. According to the model, pitchers are far less likely to throw off speed pitches as more runners get on base."
   ]
  }
 ],
 "metadata": {
  "kernelspec": {
   "display_name": "Python 3",
   "language": "python",
   "name": "python3"
  },
  "language_info": {
   "codemirror_mode": {
    "name": "ipython",
    "version": 3
   },
   "file_extension": ".py",
   "mimetype": "text/x-python",
   "name": "python",
   "nbconvert_exporter": "python",
   "pygments_lexer": "ipython3",
   "version": "3.7.7"
  }
 },
 "nbformat": 4,
 "nbformat_minor": 4
}
